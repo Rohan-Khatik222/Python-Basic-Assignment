{
  "nbformat": 4,
  "nbformat_minor": 0,
  "metadata": {
    "colab": {
      "provenance": []
    },
    "kernelspec": {
      "name": "python3",
      "display_name": "Python 3"
    },
    "language_info": {
      "name": "python"
    }
  },
  "cells": [
    {
      "cell_type": "markdown",
      "source": [
        "## Q1.What are the two values of the boolean data types? how do you write them ?\n",
        "\n",
        "```\n",
        "Ans: True and False are two values of the boolen data types, Written using capital T and F with the rest of the word in lowercase.\n",
        "```"
      ],
      "metadata": {
        "id": "bbdSOMk0DwPd"
      }
    },
    {
      "cell_type": "code",
      "execution_count": 1,
      "metadata": {
        "colab": {
          "base_uri": "https://localhost:8080/"
        },
        "id": "yWu51AxSDpC1",
        "outputId": "3fd25bd7-aa52-460b-edd7-1b24c319e317"
      },
      "outputs": [
        {
          "output_type": "stream",
          "name": "stdout",
          "text": [
            "True <class 'bool'>\n",
            "False <class 'bool'>\n"
          ]
        }
      ],
      "source": [
        "a=True\n",
        "b=False\n",
        "print(a,type(a))\n",
        "print(b,type(b))"
      ]
    },
    {
      "cell_type": "markdown",
      "source": [
        "## Q2. What are the three different types of Boolean operators?\n",
        "\n",
        "**Ans:-** The three differnt types of Boolean operators in python are:-\n",
        " - or\n",
        " - and\n",
        " - not"
      ],
      "metadata": {
        "id": "kBV-tyePEQz-"
      }
    },
    {
      "cell_type": "markdown",
      "source": [
        "## Q3. Make a list of each Boolean operator's truth tables (i.e. every possible combination of Boolean values for the operator and what it evaluate) ?\n",
        "\n",
        "\n",
        " **Truth Table for *and* operaotor**\n",
        "```\n",
        "True and True is True\n",
        "True and False is False\n",
        "False and True is False\n",
        "False and False is False\n",
        "```\n",
        "\n",
        "**Truth Table for *or* operaotor**\n",
        "```\n",
        "True and True is True\n",
        "True and False is True\n",
        "False and True is True\n",
        "False and False is False\n",
        "```\n",
        "\n",
        "**Truth Table for *not* operaotor** \n",
        "```\n",
        "True not is False False not is True\n",
        "```"
      ],
      "metadata": {
        "id": "LfsGYS9NE-EW"
      }
    },
    {
      "cell_type": "markdown",
      "source": [
        "4. What are the values of the following expressions ?\n",
        "```\n",
        "(5 > 4) and (3 == 5)\n",
        "not (5 > 4)\n",
        "(5 > 4) or (3 == 5)\n",
        "not ((5 > 4) or (3 == 5))\n",
        "(True and True) and (True == False)\n",
        "(not False) or (not True)\n",
        "```"
      ],
      "metadata": {
        "id": "bbkx6lKJFx-V"
      }
    },
    {
      "cell_type": "code",
      "source": [
        "print((5 > 4) and (3 == 5))\n",
        "print(not (5 > 4))\n",
        "print((5 > 4) or (3 == 5))\n",
        "print(not (5 > 4) or (3 == 5))\n",
        "print((True and True) and (True == False))\n",
        "print((not False) or (not True))\n",
        "    \n",
        "\n"
      ],
      "metadata": {
        "colab": {
          "base_uri": "https://localhost:8080/"
        },
        "id": "_jtG1eH5Gef2",
        "outputId": "d4a17600-7d80-4f31-fbe6-80b33d8a52ec"
      },
      "execution_count": 2,
      "outputs": [
        {
          "output_type": "stream",
          "name": "stdout",
          "text": [
            "False\n",
            "False\n",
            "True\n",
            "False\n",
            "False\n",
            "True\n"
          ]
        }
      ]
    },
    {
      "cell_type": "markdown",
      "source": [
        "### Q5. What are the six comparison operators?\n",
        "\n",
        "```\n",
        "==, !=, <, >, <=, >=.\n",
        "```"
      ],
      "metadata": {
        "id": "a80Z9xen5W_V"
      }
    },
    {
      "cell_type": "markdown",
      "source": [
        "###Q6. How do you tell the difference between the equal to and assignment operators?Describe a condition and when you would use one.\n",
        "\n",
        " - Assignment operator:- “=” is an assignment operator is used to assign the value on the right to the variable on the left. For ex:- a = 5. Now, the 5 is hold by a.\n",
        "\n",
        " - Equal to:-  \"==\" is the equal to operator that compares two values."
      ],
      "metadata": {
        "id": "g6CgWl8968sK"
      }
    },
    {
      "cell_type": "code",
      "source": [
        "a = 5 #Here, 5 is assign to a\n",
        "\n",
        "if a == 5:  #Here is checking that a is equal to 5 or not.\n",
        "  print(\"Yes\")\n",
        "else:\n",
        "  print(\"No\")"
      ],
      "metadata": {
        "colab": {
          "base_uri": "https://localhost:8080/"
        },
        "id": "ZAreMD_N812T",
        "outputId": "fd95bfae-1293-4f24-b037-c9198f902a59"
      },
      "execution_count": 3,
      "outputs": [
        {
          "output_type": "stream",
          "name": "stdout",
          "text": [
            "Yes\n"
          ]
        }
      ]
    },
    {
      "cell_type": "markdown",
      "source": [
        "### Q7. Identify the three blocks in this code.\n",
        "\n",
        "```\n",
        "spam = 0\n",
        "if spam == 10:\n",
        "print('eggs')\n",
        "if spam > 5:\n",
        "print('bacon')\n",
        "else:\n",
        "print('ham')\n",
        "print('spam')\n",
        "print('spam')\n",
        "```"
      ],
      "metadata": {
        "id": "Q-gTflkp9RLz"
      }
    },
    {
      "cell_type": "code",
      "source": [
        "spam = 0\n",
        "if spam == 10: #Block 1\n",
        "  print('eggs')\n",
        "  if spam > 5:     #Block 2\n",
        "    print('bacon') \n",
        "else:               #Block 3\n",
        "  print('ham')\n",
        "  print('spam')\n",
        "  print('spam')"
      ],
      "metadata": {
        "colab": {
          "base_uri": "https://localhost:8080/"
        },
        "id": "AFTQ0QiA9tB9",
        "outputId": "af0bc8cb-ed4d-4efc-ac75-5102caf78fde"
      },
      "execution_count": 6,
      "outputs": [
        {
          "output_type": "stream",
          "name": "stdout",
          "text": [
            "ham\n",
            "spam\n",
            "spam\n"
          ]
        }
      ]
    },
    {
      "cell_type": "markdown",
      "source": [
        "### Q8. Write code that prints Hello if 1 is stored in spam, prints Howdy if 2 is stored in spam, and prints Greetings! if anything else is stored in spam."
      ],
      "metadata": {
        "id": "hH91dg0hC4Y7"
      }
    },
    {
      "cell_type": "code",
      "source": [
        "def spam(a):\n",
        "  if a == 1:\n",
        "    print(\"Hello\")\n",
        "  elif a == 2:\n",
        "    print(\"Howdy\")\n",
        "  else:\n",
        "    print(\"Greetings!\")\n",
        "\n",
        "spam(1)\n",
        "spam(2)\n",
        "spam(\"anthing 125448\")"
      ],
      "metadata": {
        "colab": {
          "base_uri": "https://localhost:8080/"
        },
        "id": "a4DSlruRDYfq",
        "outputId": "05e46166-ae39-4b68-cefa-b9becd2c3c3a"
      },
      "execution_count": 10,
      "outputs": [
        {
          "output_type": "stream",
          "name": "stdout",
          "text": [
            "Hello\n",
            "Howdy\n",
            "Greetings!\n"
          ]
        }
      ]
    },
    {
      "cell_type": "markdown",
      "source": [
        "### Q9.If your programme is stuck in an endless loop, what keys you’ll press?\n",
        "\n",
        " - Press ```Ctrl-c``` to stop a program stuck in an infinite loop\n"
      ],
      "metadata": {
        "id": "rYEQS9k1EWmQ"
      }
    },
    {
      "cell_type": "markdown",
      "source": [
        "### Q10. How can you tell the difference between break and continue?\n",
        "\n",
        " - break:-  It terminates the execution of the current loop and passes the control over the next loop or main body.\n",
        "\n",
        " - continue:-  It skips the current iteration and executes the very next iteration in the loop."
      ],
      "metadata": {
        "id": "UqHyCmNZEw88"
      }
    },
    {
      "cell_type": "markdown",
      "source": [
        "### Q11. In a for loop, what is the difference between range(10), range(0, 10), and range(0, 10, 1)?\n",
        "\n",
        " - range(10) call range from 0 to 9 but not include 10.\n",
        " - range (0,10)  tells the loop to start at 0.\n",
        " - range(0,10,1) tells the loop to increase the variable by 1 on each iteration."
      ],
      "metadata": {
        "id": "1er-jf-qFZw-"
      }
    },
    {
      "cell_type": "code",
      "source": [
        "for i in range(10):\n",
        "  print(i, end = \" \")"
      ],
      "metadata": {
        "colab": {
          "base_uri": "https://localhost:8080/"
        },
        "id": "Stbs0jRSGBso",
        "outputId": "c30a9e55-e039-4c2f-dc88-9686f8810adc"
      },
      "execution_count": 16,
      "outputs": [
        {
          "output_type": "stream",
          "name": "stdout",
          "text": [
            "0 1 2 3 4 5 6 7 8 9 "
          ]
        }
      ]
    },
    {
      "cell_type": "code",
      "source": [
        "for i in range(0,10):\n",
        "  print(i, end = \" \")"
      ],
      "metadata": {
        "colab": {
          "base_uri": "https://localhost:8080/"
        },
        "id": "Xz9azdCqGg4V",
        "outputId": "36f5ead5-bb76-4809-bdc7-5eced3d37596"
      },
      "execution_count": 17,
      "outputs": [
        {
          "output_type": "stream",
          "name": "stdout",
          "text": [
            "0 1 2 3 4 5 6 7 8 9 "
          ]
        }
      ]
    },
    {
      "cell_type": "code",
      "source": [
        "for i in range(0,10,1):\n",
        "  print(i, end = \" \")"
      ],
      "metadata": {
        "colab": {
          "base_uri": "https://localhost:8080/"
        },
        "id": "vZ3iYEbMGkcz",
        "outputId": "18bc97dd-ddf9-4644-ebcd-0d1edbb6c65b"
      },
      "execution_count": 18,
      "outputs": [
        {
          "output_type": "stream",
          "name": "stdout",
          "text": [
            "0 1 2 3 4 5 6 7 8 9 "
          ]
        }
      ]
    },
    {
      "cell_type": "markdown",
      "source": [
        "### Q12. Write a short program that prints the numbers 1 to 10 using a for loop. Then write an equivalent program that prints the numbers 1 to 10 using a while loop."
      ],
      "metadata": {
        "id": "_jy8qrvFGnjX"
      }
    },
    {
      "cell_type": "code",
      "source": [
        "for i in range(1,11):\n",
        "  print(i, end = \" \")"
      ],
      "metadata": {
        "colab": {
          "base_uri": "https://localhost:8080/"
        },
        "id": "MgJZOLfAG9n8",
        "outputId": "b923988a-8907-4e11-9d59-2f959f9414fc"
      },
      "execution_count": 20,
      "outputs": [
        {
          "output_type": "stream",
          "name": "stdout",
          "text": [
            "1 2 3 4 5 6 7 8 9 10 "
          ]
        }
      ]
    },
    {
      "cell_type": "code",
      "source": [
        "i = 1\n",
        "while i <= 10:\n",
        "  print(i, end = \" \")\n",
        "  i = i+1"
      ],
      "metadata": {
        "colab": {
          "base_uri": "https://localhost:8080/"
        },
        "id": "2zVuHGgvHWW5",
        "outputId": "7f258ea8-2bec-476b-802e-29f09953aa8a"
      },
      "execution_count": 21,
      "outputs": [
        {
          "output_type": "stream",
          "name": "stdout",
          "text": [
            "1 2 3 4 5 6 7 8 9 10 "
          ]
        }
      ]
    },
    {
      "cell_type": "markdown",
      "source": [
        "### Q13. If you had a function named bacon() inside a module named spam, how would you call it after importing spam?\n",
        "\n",
        "```\n",
        "Answer:- This function can be called with spam.bacon().\n",
        "```"
      ],
      "metadata": {
        "id": "F3qIF1acHpHd"
      }
    }
  ]
}
