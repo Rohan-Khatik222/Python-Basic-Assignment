{
  "nbformat": 4,
  "nbformat_minor": 0,
  "metadata": {
    "colab": {
      "provenance": []
    },
    "kernelspec": {
      "name": "python3",
      "display_name": "Python 3"
    },
    "language_info": {
      "name": "python"
    }
  },
  "cells": [
    {
      "cell_type": "markdown",
      "source": [
        "# Assignment 3\n",
        "\n",
        "### Rohan Rajkumar Khatik"
      ],
      "metadata": {
        "id": "G4RFoBnpJRL7"
      }
    },
    {
      "cell_type": "markdown",
      "source": [
        "### Q1. Why are functions advantageous to have in your programs?\n",
        "\n",
        "**Ans:-**\n",
        " - Prevent repeating the same code. \n",
        " - This makes programs shorter, easier to read, and easier to update.\n",
        " - The main advantage of functions is code Reusability."
      ],
      "metadata": {
        "id": "_emfYDO9JiE1"
      }
    },
    {
      "cell_type": "markdown",
      "source": [
        "### Q2. When does the code in a function run: when it's specified or when it's called?\n",
        "\n",
        "**Ans:-** \n",
        " - The code in a function executes when the function is called, not when the function is defined.\n",
        " - When function is called the control flow which go to first line of code present inside the function."
      ],
      "metadata": {
        "id": "IE6oqoav2zxW"
      }
    },
    {
      "cell_type": "markdown",
      "source": [
        "### Q3. What statement creates a function?\n",
        "\n",
        "**Ans:-**\n",
        "\n",
        "- The def statement defines a function."
      ],
      "metadata": {
        "id": "WnfYXoin3mty"
      }
    },
    {
      "cell_type": "markdown",
      "source": [
        "### Q4. What is the difference between a function and a function call?\n",
        "\n",
        "**Ans:-** \n",
        "\n",
        "  - Function: Function is set of codes which produce some result. Function is useless unless it is invoked or called.\n",
        "\n",
        "  - Function Call: Function call is used to invoke or execute set of codes present inside the function.\n",
        "\n"
      ],
      "metadata": {
        "id": "WhULela15r9W"
      }
    },
    {
      "cell_type": "markdown",
      "source": [
        "### Q5. How many global scopes are there in a Python program? How many local scopes?\n",
        "\n",
        "**Ans:-** \n",
        " - There are 1 global scopes and 1 local scope in the python program."
      ],
      "metadata": {
        "id": "oEl_4o_Q5-9-"
      }
    },
    {
      "cell_type": "markdown",
      "source": [
        "### Q6. What happens to variables in a local scope when the function call returns?\n",
        "\n",
        "**Ans:-** \n",
        "\n",
        " - The local variables are destroyed when function call returns."
      ],
      "metadata": {
        "id": "j1qJ5nKZ6QPm"
      }
    },
    {
      "cell_type": "markdown",
      "source": [
        "### Q7. What is the concept of a return value? Is it possible to have a return value in an expression?\n",
        "\n",
        "**Ans:-** \n",
        " -  A return value is the value that a function call evaluates to.\n",
        " - Yes, function return value can be an expression."
      ],
      "metadata": {
        "id": "58l6ZFyV8qGe"
      }
    },
    {
      "cell_type": "code",
      "source": [
        "def test1(a,b):\n",
        "    return a+b #Returning the expressio\n",
        "    \n",
        "test1(10, 2)"
      ],
      "metadata": {
        "colab": {
          "base_uri": "https://localhost:8080/"
        },
        "id": "tQCbtP0o9Wj0",
        "outputId": "0d15638f-e4ef-4c80-800d-f7c91593e3d2"
      },
      "execution_count": 1,
      "outputs": [
        {
          "output_type": "execute_result",
          "data": {
            "text/plain": [
              "12"
            ]
          },
          "metadata": {},
          "execution_count": 1
        }
      ]
    },
    {
      "cell_type": "markdown",
      "source": [
        "### Q8. If a function does not have a return statement, what is the return value of a call to that function?\n",
        "\n",
        "**Ans:-**\n",
        " - If a function does not have a return statement that means the function is  returning a NoneType.\n"
      ],
      "metadata": {
        "id": "uxEbLAK19qQO"
      }
    },
    {
      "cell_type": "code",
      "source": [
        "def test2():\n",
        "    a = 100\n",
        "    \n",
        "type(test2())\n",
        "     "
      ],
      "metadata": {
        "colab": {
          "base_uri": "https://localhost:8080/"
        },
        "id": "QoEBVtrJ-Kdd",
        "outputId": "dbd9fc9c-d4d9-41c4-9fe7-4dc2d1f5909d"
      },
      "execution_count": 2,
      "outputs": [
        {
          "output_type": "execute_result",
          "data": {
            "text/plain": [
              "NoneType"
            ]
          },
          "metadata": {},
          "execution_count": 2
        }
      ]
    },
    {
      "cell_type": "markdown",
      "source": [
        "### Q9. How do you make a function variable refer to the global variable?\n",
        "\n",
        "**Ans:-** \n",
        " - A global statement will force a variable in a function to refer to the global variable.\n",
        " - This can be achieved by using global keyword to redefine the variable and make the changes of variable as global change.\n",
        "\n"
      ],
      "metadata": {
        "id": "PradlM6w-WGs"
      }
    },
    {
      "cell_type": "markdown",
      "source": [
        "### Q10. What is the data type of None?\n",
        "\n",
        "**Ans:-** \n",
        " -  The data type of None is NoneType."
      ],
      "metadata": {
        "id": "6cftKYeUAWfV"
      }
    },
    {
      "cell_type": "code",
      "source": [
        "a = None\n",
        "type(a)"
      ],
      "metadata": {
        "colab": {
          "base_uri": "https://localhost:8080/"
        },
        "id": "fD923IViAg_J",
        "outputId": "79937ec5-4da5-481c-f07d-ee8e11cf75b9"
      },
      "execution_count": 6,
      "outputs": [
        {
          "output_type": "execute_result",
          "data": {
            "text/plain": [
              "NoneType"
            ]
          },
          "metadata": {},
          "execution_count": 6
        }
      ]
    },
    {
      "cell_type": "markdown",
      "source": [
        "### Q11. What does the sentence import areallyourpetsnamederic do?\n",
        "\n",
        "**Ans:-**\n",
        " - The statement \"import areallyourpetsnamederic\" will import the module or package areallyourpetsnamederic."
      ],
      "metadata": {
        "id": "3u69uY9NAtyR"
      }
    },
    {
      "cell_type": "markdown",
      "source": [
        "### Q12. If you had a bacon() feature in a spam module, what would you call it after importing spam?\n",
        "\n",
        "**Ans:-** \n",
        " -  This function can be called with ```spam.bacon()```.\n"
      ],
      "metadata": {
        "id": "fvu_TMVjBBJ8"
      }
    },
    {
      "cell_type": "markdown",
      "source": [
        "### Q13. What can you do to save a programme from crashing if it encounters an error?\n",
        "\n",
        "**Ans:-** \n",
        " - To save the program from crashing over a runtime error we can use the try and except statement.\n",
        "\n",
        " - It will save from only the runtime error not the compile time error."
      ],
      "metadata": {
        "id": "Hds9ReZiBRwD"
      }
    },
    {
      "cell_type": "markdown",
      "source": [
        "### Q14. What is the purpose of the try clause? What is the purpose of the except clause?\n",
        "\n",
        "**Ans:-**\n",
        " - The code that could potentially cause an error goes in the ```try``` clause.\n",
        " - The code that executes if an error happens goes in the ```except``` clause."
      ],
      "metadata": {
        "id": "R_kUaZdeBhmt"
      }
    }
  ]
}