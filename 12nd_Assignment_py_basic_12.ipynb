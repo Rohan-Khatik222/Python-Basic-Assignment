{
  "nbformat": 4,
  "nbformat_minor": 0,
  "metadata": {
    "colab": {
      "provenance": []
    },
    "kernelspec": {
      "name": "python3",
      "display_name": "Python 3"
    },
    "language_info": {
      "name": "python"
    }
  },
  "cells": [
    {
      "cell_type": "code",
      "execution_count": null,
      "metadata": {
        "id": "Fz49h8Gisx2k"
      },
      "outputs": [],
      "source": []
    },
    {
      "cell_type": "markdown",
      "source": [
        "# Assignment 12th\n",
        "\n",
        "## Rohan Rajkumar Khatik"
      ],
      "metadata": {
        "id": "A91RiCUItCyq"
      }
    },
    {
      "cell_type": "markdown",
      "source": [
        "### Q1.In what modes should the PdfFileReader() and PdfFileWriter() File objects will be opened?\n",
        "\n",
        "**Ans**:-\n",
        " - PdfFileReader() should be opened in read-binary mode. PdfFileWriter() should be opened in write-binary mode."
      ],
      "metadata": {
        "id": "hHduzIfStJBQ"
      }
    },
    {
      "cell_type": "markdown",
      "source": [
        "### Q2.From a PdfFileReader object, how do you get a Page object for page 5?\n",
        "\n",
        "**Ans**:-\n",
        "\n",
        " - PdfFileReader.getPage(5)"
      ],
      "metadata": {
        "id": "6B9Pqo-ltQv2"
      }
    },
    {
      "cell_type": "markdown",
      "source": [
        "### Q3.What PdfFileReader variable stores the number of pages in the PDF document?\n",
        "\n",
        "**Ans**:- numPages"
      ],
      "metadata": {
        "id": "W_WAyBQztkHu"
      }
    },
    {
      "cell_type": "markdown",
      "source": [
        "### Q4.If a PdfFileReader object’s PDF is encrypted with the password swordfish, what must you do before you can obtain Page objects from it?\n",
        "\n",
        "**Ans**:- obj.decrypt(\"swordfish\")"
      ],
      "metadata": {
        "id": "hGVnc-ukuYBM"
      }
    },
    {
      "cell_type": "markdown",
      "source": [
        "### Q5.What methods do you use to rotate a page?\n",
        "\n",
        "**Ans**:- rotateClockwise() and rotateCounterClockwise()"
      ],
      "metadata": {
        "id": "P7hmMvWFucK2"
      }
    },
    {
      "cell_type": "markdown",
      "source": [
        "### Q6.What is the difference between a Run object and a Paragraph object?\n",
        "\n",
        "**Ans**:- paragraps object is needed to get paragraph from a document, runs object is needed whenever text style changes in a paragraph."
      ],
      "metadata": {
        "id": "HcI2fJCGujKT"
      }
    },
    {
      "cell_type": "markdown",
      "source": [
        "### Q7.How do you obtain a list of Paragraph objects for a Document object that’s stored in a variable named doc?\n",
        "**Ans**:- doc.paragraphs"
      ],
      "metadata": {
        "id": "yfBf88PQuqEw"
      }
    },
    {
      "cell_type": "markdown",
      "source": [
        "### Q8.What type of object has bold, underline, italic, strike, and outline variables?\n",
        "\n",
        "**Ans**:- runs"
      ],
      "metadata": {
        "id": "-5k2Zd7vuwTy"
      }
    },
    {
      "cell_type": "markdown",
      "source": [
        "### Q9.What is the difference between False, True, and None for the bold variable?\n",
        "**Ans**:-\n",
        " - True = bold is always enabled no matter what other styles are applied to the run.\n",
        " -  False = bold is always disabled\n",
        " -  None = defaults to whatever the run's style set to"
      ],
      "metadata": {
        "id": "t_JQmsM2u2X9"
      }
    },
    {
      "cell_type": "markdown",
      "source": [
        "### Q10.How do you create a Document object for a new Word document?\n",
        "\n",
        "**Ans**:-\n",
        " - import docx\n",
        "\n",
        "doc=docx.Document(.docx file name)"
      ],
      "metadata": {
        "id": "KgrNqP5UvDJ1"
      }
    },
    {
      "cell_type": "markdown",
      "source": [
        "### Q11.How do you add a paragraph with the text 'Hello, there!' to a Document object stored in a variable named doc?\n",
        "\n",
        "**Ans**:- doc.add_paragraph(\"Hello, there!\")"
      ],
      "metadata": {
        "id": "vr_XMIWivLM7"
      }
    },
    {
      "cell_type": "markdown",
      "source": [
        "### Q12.What integers represent the levels of headings available in Word documents?\n",
        "\n",
        "**Ans**:- 0 to 4"
      ],
      "metadata": {
        "id": "F66Qp_iivSAX"
      }
    }
  ]
}