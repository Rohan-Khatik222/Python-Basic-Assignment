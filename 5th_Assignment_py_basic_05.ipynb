{
  "nbformat": 4,
  "nbformat_minor": 0,
  "metadata": {
    "colab": {
      "provenance": []
    },
    "kernelspec": {
      "name": "python3",
      "display_name": "Python 3"
    },
    "language_info": {
      "name": "python"
    }
  },
  "cells": [
    {
      "cell_type": "markdown",
      "source": [
        "# Assignment\n",
        "\n",
        "## Rohan Rajkumar Khatik"
      ],
      "metadata": {
        "id": "FzvCvGp6PQgr"
      }
    },
    {
      "cell_type": "markdown",
      "source": [
        "### Q1.What does an empty dictionary's code look like?"
      ],
      "metadata": {
        "id": "FH5_KJKFIgLQ"
      }
    },
    {
      "cell_type": "code",
      "execution_count": null,
      "metadata": {
        "colab": {
          "base_uri": "https://localhost:8080/"
        },
        "id": "3TjM3aP1IYh1",
        "outputId": "d3eebc20-3899-486a-c5a2-04c6bf574a30"
      },
      "outputs": [
        {
          "output_type": "stream",
          "name": "stdout",
          "text": [
            "{}\n"
          ]
        }
      ],
      "source": [
        "\n",
        "edict = {}\n",
        "type(edict)\n",
        "print(edict)"
      ]
    },
    {
      "cell_type": "markdown",
      "source": [
        "### Q2.what is the value of dictionary value with key 'foo' and the value 42 ?"
      ],
      "metadata": {
        "id": "icn4Yq2pI9EP"
      }
    },
    {
      "cell_type": "code",
      "source": [
        "d = {\"foo\" : 42}\n",
        "d.values()"
      ],
      "metadata": {
        "colab": {
          "base_uri": "https://localhost:8080/"
        },
        "id": "C1SSdt1qJF09",
        "outputId": "9f66c514-e6ed-4b08-9e49-9f85a26b532a"
      },
      "execution_count": null,
      "outputs": [
        {
          "output_type": "execute_result",
          "data": {
            "text/plain": [
              "dict_values([42])"
            ]
          },
          "metadata": {},
          "execution_count": 3
        }
      ]
    },
    {
      "cell_type": "markdown",
      "source": [
        "### Q3. What is the most significant distinction between a dictionary and a list?\n",
        "\n",
        "**Ans:-**\n",
        " -  Dictionaries are represented by {} where as listed are represented by [].\n",
        " - In dictionarie keys and values are pass like ```{\"a\" : \"rohan\"}```, a is key and value is rohan. \n",
        " - The Items stored in a dictionary are Unordered , while the items in a list are ordered."
      ],
      "metadata": {
        "id": "5lQmvZkJJelO"
      }
    },
    {
      "cell_type": "markdown",
      "source": [
        "### Q4.What happens if you try to access spam ['foo'] if spam is {'bar':100} ?"
      ],
      "metadata": {
        "id": "mXflqaknKWZt"
      }
    },
    {
      "cell_type": "code",
      "source": [
        "spam = {'bar': 100}\n",
        "spam['foo']"
      ],
      "metadata": {
        "colab": {
          "base_uri": "https://localhost:8080/",
          "height": 182
        },
        "id": "a35WFgA0JiyT",
        "outputId": "1588abd7-72fc-4859-c139-54e7063444b2"
      },
      "execution_count": null,
      "outputs": [
        {
          "output_type": "error",
          "ename": "KeyError",
          "evalue": "ignored",
          "traceback": [
            "\u001b[0;31m---------------------------------------------------------------------------\u001b[0m",
            "\u001b[0;31mKeyError\u001b[0m                                  Traceback (most recent call last)",
            "\u001b[0;32m<ipython-input-4-56a8e50c7ff8>\u001b[0m in \u001b[0;36m<module>\u001b[0;34m\u001b[0m\n\u001b[1;32m      1\u001b[0m \u001b[0mspam\u001b[0m \u001b[0;34m=\u001b[0m \u001b[0;34m{\u001b[0m\u001b[0;34m'bar'\u001b[0m\u001b[0;34m:\u001b[0m \u001b[0;36m100\u001b[0m\u001b[0;34m}\u001b[0m\u001b[0;34m\u001b[0m\u001b[0;34m\u001b[0m\u001b[0m\n\u001b[0;32m----> 2\u001b[0;31m \u001b[0mspam\u001b[0m\u001b[0;34m[\u001b[0m\u001b[0;34m'foo'\u001b[0m\u001b[0;34m]\u001b[0m\u001b[0;34m\u001b[0m\u001b[0;34m\u001b[0m\u001b[0m\n\u001b[0m",
            "\u001b[0;31mKeyError\u001b[0m: 'foo'"
          ]
        }
      ]
    },
    {
      "cell_type": "markdown",
      "source": [
        "### Q5.if a dictionary is stored in spam,what is the difference between the expressions 'cat' in spam and 'cat' in spam.keys() ?"
      ],
      "metadata": {
        "id": "i6d41lNWKtvT"
      }
    },
    {
      "cell_type": "code",
      "source": [
        "\n",
        "spam = {'cat': 123, 'cat1': 12500}\n",
        "a = 'cat' in spam\n",
        "b = 'cat' in spam.keys()\n",
        "print(a, b)"
      ],
      "metadata": {
        "colab": {
          "base_uri": "https://localhost:8080/"
        },
        "id": "iaVWQnKpMewf",
        "outputId": "63a98650-4aea-4f04-d6e2-d71403fd7ec7"
      },
      "execution_count": null,
      "outputs": [
        {
          "output_type": "stream",
          "name": "stdout",
          "text": [
            "True True\n"
          ]
        }
      ]
    },
    {
      "cell_type": "markdown",
      "source": [
        "### Q6.if a dictionary is stored in spam,what is the difference between the expressions 'cat' in spam and 'cat' in spam.values() ?"
      ],
      "metadata": {
        "id": "ORmQ6pjTNPs8"
      }
    },
    {
      "cell_type": "code",
      "source": [
        "\n",
        "spam = {'cat': 123, 'cat1': 12500}\n",
        "a = 'cat' in spam\n",
        "b = 'cat' in spam.values()\n",
        "print(a, b)"
      ],
      "metadata": {
        "colab": {
          "base_uri": "https://localhost:8080/"
        },
        "id": "Qx_dGNtWNU-Q",
        "outputId": "8bf6d941-0fb2-45dd-fc13-edb312f3c27d"
      },
      "execution_count": null,
      "outputs": [
        {
          "output_type": "stream",
          "name": "stdout",
          "text": [
            "True False\n"
          ]
        }
      ]
    },
    {
      "cell_type": "markdown",
      "source": [
        "### Q7.what is a shortcut for the following code ?\n",
        "\n",
        "if 'color' not in spam: \n",
        "spam['color'] ='black'"
      ],
      "metadata": {
        "id": "fzK11rbkNcXM"
      }
    },
    {
      "cell_type": "code",
      "source": [
        "spam"
      ],
      "metadata": {
        "colab": {
          "base_uri": "https://localhost:8080/"
        },
        "id": "_5k6Nv-YN-pk",
        "outputId": "ab772612-a835-4362-ae2b-8358ad640523"
      },
      "execution_count": null,
      "outputs": [
        {
          "output_type": "execute_result",
          "data": {
            "text/plain": [
              "{'cat': 123, 'cat1': 12500}"
            ]
          },
          "metadata": {},
          "execution_count": 7
        }
      ]
    },
    {
      "cell_type": "code",
      "source": [
        "\n",
        "spam.setdefault('color', 'black')"
      ],
      "metadata": {
        "colab": {
          "base_uri": "https://localhost:8080/",
          "height": 36
        },
        "id": "dPWxNycVN_Vn",
        "outputId": "972d9cf0-4eb9-45ee-a5be-0a4bfd58a21d"
      },
      "execution_count": null,
      "outputs": [
        {
          "output_type": "execute_result",
          "data": {
            "text/plain": [
              "'black'"
            ],
            "application/vnd.google.colaboratory.intrinsic+json": {
              "type": "string"
            }
          },
          "metadata": {},
          "execution_count": 9
        }
      ]
    },
    {
      "cell_type": "code",
      "source": [
        "spam"
      ],
      "metadata": {
        "colab": {
          "base_uri": "https://localhost:8080/"
        },
        "id": "gK9WVTQpOdSO",
        "outputId": "d32b900a-959e-4c68-9203-06b7de5a52cc"
      },
      "execution_count": null,
      "outputs": [
        {
          "output_type": "execute_result",
          "data": {
            "text/plain": [
              "{'cat': 123, 'cat1': 12500, 'color': 'black'}"
            ]
          },
          "metadata": {},
          "execution_count": 13
        }
      ]
    },
    {
      "cell_type": "markdown",
      "source": [
        "### Q8.How do you 'pretty print' dictionary values using which modules and function ?"
      ],
      "metadata": {
        "id": "AAm8FOu3OgWQ"
      }
    },
    {
      "cell_type": "code",
      "source": [
        "import pprint\n",
        "pprint.pprint(spam)"
      ],
      "metadata": {
        "colab": {
          "base_uri": "https://localhost:8080/"
        },
        "id": "QFxqhoLsOvvD",
        "outputId": "b2f6cac3-8b38-4260-aa67-7cfa25a39936"
      },
      "execution_count": null,
      "outputs": [
        {
          "output_type": "stream",
          "name": "stdout",
          "text": [
            "{'cat': 123, 'cat1': 12500, 'color': 'black'}\n"
          ]
        }
      ]
    }
  ]
}