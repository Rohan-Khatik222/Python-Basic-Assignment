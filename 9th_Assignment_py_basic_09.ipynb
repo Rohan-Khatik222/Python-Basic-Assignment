{
  "nbformat": 4,
  "nbformat_minor": 0,
  "metadata": {
    "colab": {
      "provenance": []
    },
    "kernelspec": {
      "name": "python3",
      "display_name": "Python 3"
    },
    "language_info": {
      "name": "python"
    }
  },
  "cells": [
    {
      "cell_type": "markdown",
      "source": [
        "# Assignment 9th\n",
        "\n",
        "## Rohan Rajkumar Khatik"
      ],
      "metadata": {
        "id": "peUkm3TEY0Og"
      }
    },
    {
      "cell_type": "markdown",
      "source": [
        "### Q1.To what does a relative path refer ?\n",
        "\n",
        "**Ans**:- \n",
        " - Relative paths are relative to the current working directory. When using relative path, we need to provide the absolute/complete path of file from the root directory, instead we can give the partial/relative path to indicate the file location."
      ],
      "metadata": {
        "id": "CEkHgQ0RY7Vr"
      }
    },
    {
      "cell_type": "markdown",
      "source": [
        "### Q2.Where does an absolute path start with your Operating System ?\n",
        "\n",
        "**Ans**:-\n",
        " - In Windows based systems absolute path starts with C:\n",
        "\n"
      ],
      "metadata": {
        "id": "ypxkMxl2aYmN"
      }
    },
    {
      "cell_type": "markdown",
      "source": [
        "### Q3.What does the functions os.getcwd() and os.chdir() do ?\n",
        "\n",
        "**Ans**:- ```os.getcwd()``` method tells us the location of current working directory (CWD). Whereas ```os.chdir()``` method in Python used to change the current working directory to specified path. These functions are similar to linux commands ```pwd``` and ```cd```."
      ],
      "metadata": {
        "id": "hne96nSvaoku"
      }
    },
    {
      "cell_type": "markdown",
      "source": [
        "### Q4.What are . and .. folders ?\n",
        "\n",
        "**Ans**:-\n",
        " - . single dot means the current folder\n",
        " - .. double dot means the parent folder"
      ],
      "metadata": {
        "id": "SqzQ84VfbDwX"
      }
    },
    {
      "cell_type": "markdown",
      "source": [
        "### Q5.In C:\\bacon\\eggs\\spam.txt which part is the dir name and which part is the base name ?\n",
        "\n",
        "**Ans**:-\n",
        " - The dir name is ```C:\\\\bacon\\\\eggs```\n",
        " - The Base name is ```spam.txt```"
      ],
      "metadata": {
        "id": "SQeTQceYcHiQ"
      }
    },
    {
      "cell_type": "code",
      "source": [
        "import os\n",
        "path = r'C:\\bacon\\eggs\\spam.txt'\n",
        "print(os.path.dirname(path))\n",
        "print(os.path.basename(path))"
      ],
      "metadata": {
        "colab": {
          "base_uri": "https://localhost:8080/"
        },
        "id": "TmxOULDxcpaC",
        "outputId": "eef40d7e-7b99-4560-c3c7-031e1e5defb7"
      },
      "execution_count": 3,
      "outputs": [
        {
          "output_type": "stream",
          "name": "stdout",
          "text": [
            "\n",
            "C:\\bacon\\eggs\\spam.txt\n"
          ]
        }
      ]
    },
    {
      "cell_type": "markdown",
      "source": [
        "### Q6.What are the three mode arguments that can be passed to the open() function ?\n",
        "\n",
        "**Ans**:- A file can be Accessed in python using open() function. open function takes two arguments filename and mode of operation (optional). if mode is not provided the default mode of opening is read mode\n",
        "  - So, the syntax being: ```open(filename, mode)```\n",
        "\n",
        " - ```‘r’``` – Read Mode: This is the default mode for open(). The file is opened and a pointer is positioned at the beginning of the file’s content.\n",
        " - ```‘w’``` – Write Mode: Using this mode will overwrite any existing content in a file. If the given file does not exist, a new one will be created.\n",
        " - ```‘r+’``` – Read/Write Mode: Use this mode if you need to simultaneously read and write to a file.\n"
      ],
      "metadata": {
        "id": "EvPQTBmwcgeT"
      }
    },
    {
      "cell_type": "markdown",
      "source": [
        "### Q7.What happens if an existing file is opened in write mode ?\n",
        "\n",
        "**Ans**:- If an existing file is opened in write mode, then all the existing content from the file is erased and the new content will be added.\n",
        " - This might result in loss of data if you wanted to have both existing and new data to existing in the file"
      ],
      "metadata": {
        "id": "4CM2007Jdcvc"
      }
    },
    {
      "cell_type": "markdown",
      "source": [
        "### Q8.How do you tell the difference between read() and readlines() ?\n",
        "\n",
        "**Ans**:- \n",
        " - The read() method returns the file’s entire contents as a single string value.\n",
        " - The readlines() method returns a list of strings, where each string is a line from the file’s contents."
      ],
      "metadata": {
        "id": "RNxssvAjdtw5"
      }
    },
    {
      "cell_type": "markdown",
      "source": [
        "### Q9.What data structure does a shelf value resemble ?\n",
        "\n",
        "**Ans**:- A shelf value resembles a dictionary value; it has keys and values, along with keys() and values() methods that work similarly to the dictionary methods of the same names."
      ],
      "metadata": {
        "id": "C_Zx2poJeMvy"
      }
    }
  ]
}