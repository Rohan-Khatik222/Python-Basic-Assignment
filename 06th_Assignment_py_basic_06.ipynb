{
  "nbformat": 4,
  "nbformat_minor": 0,
  "metadata": {
    "colab": {
      "provenance": []
    },
    "kernelspec": {
      "name": "python3",
      "display_name": "Python 3"
    },
    "language_info": {
      "name": "python"
    }
  },
  "cells": [
    {
      "cell_type": "markdown",
      "source": [
        "# Assignment 6th\n",
        "\n",
        "# Rohan Rajkumar Khatik\n",
        "\n"
      ],
      "metadata": {
        "id": "DNbQTPYoQDH-"
      }
    },
    {
      "cell_type": "markdown",
      "source": [
        "### Q1.What are Escape characters ? and how do you use them ?\n",
        "\n",
        "**Ans:-**\n",
        " - In Python strings, the backslash() is a special character, also called the \"escape\" character. It is used in representing certain whitespace characters: \"\\t\" is a tab, \"\\n\" is a newline, and \"\\r\" is a carriage return."
      ],
      "metadata": {
        "id": "nv93xG72QKkJ"
      }
    },
    {
      "cell_type": "markdown",
      "source": [
        "### Q2. What do the escape characters n and t stand for?\n",
        "\n",
        "**Ans:-**\n",
        " - \"\\t\" is for tab space, \"\\n\" is for a newline"
      ],
      "metadata": {
        "id": "BIaQugnOQ3Qi"
      }
    },
    {
      "cell_type": "markdown",
      "source": [
        "### Q3.What is the way to include backslash character in a string?\n",
        "\n",
        "**Ans:-** \n",
        " - You need to append backslash with another backslash to include the backslash in your strings."
      ],
      "metadata": {
        "id": "WPIJLO6wRHVG"
      }
    },
    {
      "cell_type": "code",
      "source": [
        "print(\"it's a 6th assignment \\ in a course\")\n"
      ],
      "metadata": {
        "colab": {
          "base_uri": "https://localhost:8080/"
        },
        "id": "bN25G2LXR0ic",
        "outputId": "8a7ea177-75b0-4d54-f095-dc215b8fdc84"
      },
      "execution_count": 2,
      "outputs": [
        {
          "output_type": "stream",
          "name": "stdout",
          "text": [
            "it's a 6th assignment \\ in a course\n"
          ]
        }
      ]
    },
    {
      "cell_type": "code",
      "source": [
        "\n",
        "print(\"it's a 6th assignment \\\\ in a course\")"
      ],
      "metadata": {
        "colab": {
          "base_uri": "https://localhost:8080/"
        },
        "id": "ILRPFDX1RtRI",
        "outputId": "b0e6ae61-8858-4edd-c27a-f1f8afb8943c"
      },
      "execution_count": 4,
      "outputs": [
        {
          "output_type": "stream",
          "name": "stdout",
          "text": [
            "it's a 6th assignment \\ in a course\n"
          ]
        }
      ]
    },
    {
      "cell_type": "markdown",
      "source": [
        "### Q4.The string \"Howl's Moving Castle\" is a correct value. Why isn't the single quote character in the word Howl's not escaped a problem ?\n",
        "\n",
        "**Ans:-**\n",
        " - The string \"Howl's Moving Castle\" escaped the problem because it is wrapped inside double quotes. if its wrapped inside single quotes then we have to use escape character \\' to show single quote in the final output."
      ],
      "metadata": {
        "id": "4fQEq-txSKBr"
      }
    },
    {
      "cell_type": "code",
      "source": [
        "print(\"Howl's Moving Castle\")"
      ],
      "metadata": {
        "colab": {
          "base_uri": "https://localhost:8080/"
        },
        "id": "FMaR-GdlSPOP",
        "outputId": "2b8f8199-0b2d-41fb-d692-486cf7ac421a"
      },
      "execution_count": 5,
      "outputs": [
        {
          "output_type": "stream",
          "name": "stdout",
          "text": [
            "Howl's Moving Castle\n"
          ]
        }
      ]
    },
    {
      "cell_type": "markdown",
      "source": [
        "### Q5.How do you write a string of newlines if you don't want to use the n character?\n"
      ],
      "metadata": {
        "id": "I89drthMS5n9"
      }
    },
    {
      "cell_type": "code",
      "source": [
        "\n",
        "s = \"\"\"This is a\n",
        "multi line\n",
        "string by\n",
        "variable name a.\"\"\"\n",
        "print(s)\n",
        "     "
      ],
      "metadata": {
        "colab": {
          "base_uri": "https://localhost:8080/"
        },
        "id": "xPPhMBTyTATN",
        "outputId": "41128719-4070-4d2d-e6db-e5a464b98cff"
      },
      "execution_count": 10,
      "outputs": [
        {
          "output_type": "stream",
          "name": "stdout",
          "text": [
            "This is a\n",
            "multi line\n",
            "string by\n",
            "variable name a.\n"
          ]
        }
      ]
    },
    {
      "cell_type": "markdown",
      "source": [
        "### Q6.What are the values of the given expressions ?\n",
        "```\n",
        "'Hello, world!'[1]\n",
        "'Hello, world!'[0:5]\n",
        "'Hello, world!'[:5]\n",
        "'Hello, world!'[3:]\n",
        "```"
      ],
      "metadata": {
        "id": "TfqE5odlTmgm"
      }
    },
    {
      "cell_type": "code",
      "source": [
        "'Hello, world!'[1]"
      ],
      "metadata": {
        "colab": {
          "base_uri": "https://localhost:8080/",
          "height": 36
        },
        "id": "0WpuNpc1Tq4Y",
        "outputId": "95b797c6-d7dd-4632-96c5-eac363739167"
      },
      "execution_count": 11,
      "outputs": [
        {
          "output_type": "execute_result",
          "data": {
            "text/plain": [
              "'e'"
            ],
            "application/vnd.google.colaboratory.intrinsic+json": {
              "type": "string"
            }
          },
          "metadata": {},
          "execution_count": 11
        }
      ]
    },
    {
      "cell_type": "code",
      "source": [
        "'Hello, world!'[0:5]"
      ],
      "metadata": {
        "colab": {
          "base_uri": "https://localhost:8080/",
          "height": 36
        },
        "id": "FBXYjnPvTwFe",
        "outputId": "88087fb8-6fc8-4c60-e3dc-7a7ac0ba8681"
      },
      "execution_count": 12,
      "outputs": [
        {
          "output_type": "execute_result",
          "data": {
            "text/plain": [
              "'Hello'"
            ],
            "application/vnd.google.colaboratory.intrinsic+json": {
              "type": "string"
            }
          },
          "metadata": {},
          "execution_count": 12
        }
      ]
    },
    {
      "cell_type": "code",
      "source": [
        "'Hello, world!'[:5]"
      ],
      "metadata": {
        "colab": {
          "base_uri": "https://localhost:8080/",
          "height": 36
        },
        "id": "mCaRw0qnTxdn",
        "outputId": "1e9ba6af-08b7-46ea-c290-7e82fbd9a68e"
      },
      "execution_count": 13,
      "outputs": [
        {
          "output_type": "execute_result",
          "data": {
            "text/plain": [
              "'Hello'"
            ],
            "application/vnd.google.colaboratory.intrinsic+json": {
              "type": "string"
            }
          },
          "metadata": {},
          "execution_count": 13
        }
      ]
    },
    {
      "cell_type": "code",
      "source": [
        "'Hello, world!'[3:]"
      ],
      "metadata": {
        "colab": {
          "base_uri": "https://localhost:8080/",
          "height": 36
        },
        "id": "6mCivHcMTzEV",
        "outputId": "ed1a1cb5-a5ba-481d-f8fd-86c434900678"
      },
      "execution_count": 14,
      "outputs": [
        {
          "output_type": "execute_result",
          "data": {
            "text/plain": [
              "'lo, world!'"
            ],
            "application/vnd.google.colaboratory.intrinsic+json": {
              "type": "string"
            }
          },
          "metadata": {},
          "execution_count": 14
        }
      ]
    },
    {
      "cell_type": "markdown",
      "source": [
        "### Q7.What are the values of the following expressions ?\n",
        "```\n",
        "'Hello'.upper()\n",
        "'Hello'.upper().isupper()\n",
        "'Hello'.upper().lower()\n",
        "```"
      ],
      "metadata": {
        "id": "Udbxu0jyT-rG"
      }
    },
    {
      "cell_type": "code",
      "source": [
        "'Hello'.upper()"
      ],
      "metadata": {
        "colab": {
          "base_uri": "https://localhost:8080/",
          "height": 36
        },
        "id": "9b084BbWUFkw",
        "outputId": "86fba449-9ae4-40cf-fb26-ac75d8c21e87"
      },
      "execution_count": 16,
      "outputs": [
        {
          "output_type": "execute_result",
          "data": {
            "text/plain": [
              "'HELLO'"
            ],
            "application/vnd.google.colaboratory.intrinsic+json": {
              "type": "string"
            }
          },
          "metadata": {},
          "execution_count": 16
        }
      ]
    },
    {
      "cell_type": "code",
      "source": [
        "'Hello'.upper().isupper()"
      ],
      "metadata": {
        "colab": {
          "base_uri": "https://localhost:8080/"
        },
        "id": "c7MEqTvAUILa",
        "outputId": "cfa216ec-7b0f-4fa2-b9eb-604a00a516b1"
      },
      "execution_count": 17,
      "outputs": [
        {
          "output_type": "execute_result",
          "data": {
            "text/plain": [
              "True"
            ]
          },
          "metadata": {},
          "execution_count": 17
        }
      ]
    },
    {
      "cell_type": "code",
      "source": [
        "'Hello'.upper().lower()"
      ],
      "metadata": {
        "colab": {
          "base_uri": "https://localhost:8080/",
          "height": 36
        },
        "id": "E39Mkx2EUIyv",
        "outputId": "d7d7e08c-bc54-4329-f6f2-99ecfcb121cb"
      },
      "execution_count": 18,
      "outputs": [
        {
          "output_type": "execute_result",
          "data": {
            "text/plain": [
              "'hello'"
            ],
            "application/vnd.google.colaboratory.intrinsic+json": {
              "type": "string"
            }
          },
          "metadata": {},
          "execution_count": 18
        }
      ]
    },
    {
      "cell_type": "markdown",
      "source": [
        "### Q8.What are the values of the following expressions ?\n",
        "```\n",
        "'Remember, remember, the fifith of July.'.split()\n",
        "-'.join('There can only one'.split())\n",
        "```"
      ],
      "metadata": {
        "id": "NcKWvKwOUizD"
      }
    },
    {
      "cell_type": "code",
      "source": [
        "'Remember, remember, the fifith of July.'.split()"
      ],
      "metadata": {
        "colab": {
          "base_uri": "https://localhost:8080/"
        },
        "id": "9mFAESUXUmSD",
        "outputId": "96715506-7eab-4c2b-8f30-ac97542eb9d2"
      },
      "execution_count": 20,
      "outputs": [
        {
          "output_type": "execute_result",
          "data": {
            "text/plain": [
              "['Remember,', 'remember,', 'the', 'fifith', 'of', 'July.']"
            ]
          },
          "metadata": {},
          "execution_count": 20
        }
      ]
    },
    {
      "cell_type": "code",
      "source": [
        "'-'.join('There can only one'.split())"
      ],
      "metadata": {
        "colab": {
          "base_uri": "https://localhost:8080/",
          "height": 36
        },
        "id": "8xXkcnIUUo8a",
        "outputId": "addd0235-f8d2-443a-ead0-bd8355ac7b42"
      },
      "execution_count": 22,
      "outputs": [
        {
          "output_type": "execute_result",
          "data": {
            "text/plain": [
              "'There-can-only-one'"
            ],
            "application/vnd.google.colaboratory.intrinsic+json": {
              "type": "string"
            }
          },
          "metadata": {},
          "execution_count": 22
        }
      ]
    },
    {
      "cell_type": "markdown",
      "source": [
        "### Q9.What are the methods for right-justifying, left-justifying and centering a string ?"
      ],
      "metadata": {
        "id": "gKwV7-6_U_Qn"
      }
    },
    {
      "cell_type": "code",
      "source": [
        "# left justified\n",
        "str1 =\"Rohan Khatik\"\n",
        "str1.ljust(25,\"*\")"
      ],
      "metadata": {
        "colab": {
          "base_uri": "https://localhost:8080/",
          "height": 36
        },
        "id": "Srd5Qz1HVDfR",
        "outputId": "2651c481-2ae3-4a33-8e89-826c8ef0d728"
      },
      "execution_count": 25,
      "outputs": [
        {
          "output_type": "execute_result",
          "data": {
            "text/plain": [
              "'Rohan Khatik*************'"
            ],
            "application/vnd.google.colaboratory.intrinsic+json": {
              "type": "string"
            }
          },
          "metadata": {},
          "execution_count": 25
        }
      ]
    },
    {
      "cell_type": "code",
      "source": [
        "# right justified\n",
        "str1 =\"Rohan Khatik\"\n",
        "str1.rjust(25,\"*\")"
      ],
      "metadata": {
        "colab": {
          "base_uri": "https://localhost:8080/",
          "height": 36
        },
        "id": "BwtK62pxVXZ3",
        "outputId": "18846b4e-8ca0-4e29-8fc7-6869cf9b8a72"
      },
      "execution_count": 26,
      "outputs": [
        {
          "output_type": "execute_result",
          "data": {
            "text/plain": [
              "'*************Rohan Khatik'"
            ],
            "application/vnd.google.colaboratory.intrinsic+json": {
              "type": "string"
            }
          },
          "metadata": {},
          "execution_count": 26
        }
      ]
    },
    {
      "cell_type": "code",
      "source": [
        "# center justified\n",
        "str1 =\"Rohan Khatik\"\n",
        "str1.center(25,\"*\")"
      ],
      "metadata": {
        "colab": {
          "base_uri": "https://localhost:8080/",
          "height": 36
        },
        "id": "10lGsLswVd2g",
        "outputId": "33dd4471-fa9f-4d37-cb3e-21887c4ee9eb"
      },
      "execution_count": 27,
      "outputs": [
        {
          "output_type": "execute_result",
          "data": {
            "text/plain": [
              "'*******Rohan Khatik******'"
            ],
            "application/vnd.google.colaboratory.intrinsic+json": {
              "type": "string"
            }
          },
          "metadata": {},
          "execution_count": 27
        }
      ]
    },
    {
      "cell_type": "markdown",
      "source": [
        "### Q10. What is the best way to remove whitespace characters from the start or end?\n",
        "\n",
        "**Ans:-**\n",
        " - lstrip() -> removes white spaces from left of the string\n",
        "\n",
        " - rstrip() -> removes whitespaces from right of the string"
      ],
      "metadata": {
        "id": "k8B1lmrsVp-i"
      }
    },
    {
      "cell_type": "code",
      "source": [
        "a = \"          hello        \"\n",
        "print(a)\n",
        "a.lstrip()"
      ],
      "metadata": {
        "colab": {
          "base_uri": "https://localhost:8080/",
          "height": 53
        },
        "id": "95zfmJdrV1ZD",
        "outputId": "42746fb9-f492-4bc0-f97c-5fbc90cefbed"
      },
      "execution_count": 28,
      "outputs": [
        {
          "output_type": "stream",
          "name": "stdout",
          "text": [
            "          hello        \n"
          ]
        },
        {
          "output_type": "execute_result",
          "data": {
            "text/plain": [
              "'hello        '"
            ],
            "application/vnd.google.colaboratory.intrinsic+json": {
              "type": "string"
            }
          },
          "metadata": {},
          "execution_count": 28
        }
      ]
    },
    {
      "cell_type": "code",
      "source": [
        "a = \"          hello        \"\n",
        "print(a)\n",
        "a.rstrip()"
      ],
      "metadata": {
        "colab": {
          "base_uri": "https://localhost:8080/",
          "height": 53
        },
        "id": "5bMJ8I6wWIO9",
        "outputId": "4e6d02df-b30e-49a4-8118-2fb809aaa452"
      },
      "execution_count": 29,
      "outputs": [
        {
          "output_type": "stream",
          "name": "stdout",
          "text": [
            "          hello        \n"
          ]
        },
        {
          "output_type": "execute_result",
          "data": {
            "text/plain": [
              "'          hello'"
            ],
            "application/vnd.google.colaboratory.intrinsic+json": {
              "type": "string"
            }
          },
          "metadata": {},
          "execution_count": 29
        }
      ]
    }
  ]
}
