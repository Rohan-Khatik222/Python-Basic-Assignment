{
  "nbformat": 4,
  "nbformat_minor": 0,
  "metadata": {
    "colab": {
      "provenance": []
    },
    "kernelspec": {
      "name": "python3",
      "display_name": "Python 3"
    },
    "language_info": {
      "name": "python"
    }
  },
  "cells": [
    {
      "cell_type": "markdown",
      "source": [
        "# Assignment 4\n",
        "\n",
        "## Rohan Rajkumar Khatik"
      ],
      "metadata": {
        "id": "zERp7TKSkMQW"
      }
    },
    {
      "cell_type": "markdown",
      "source": [
        "### Q1. What exactly is []?\n",
        "\n",
        "**Ans:-**\n",
        " - ```[]``` is an empty list.\n",
        " - ```[]``` is used for list we can enter n number values of any data type."
      ],
      "metadata": {
        "id": "BNUzdGxDtj_3"
      }
    },
    {
      "cell_type": "markdown",
      "source": [
        "### Q2. In a list of values stored in a variable called spam, how would you assign the value 'hello' as the third value? (Assume [2, 4, 6, 8, 10] are in spam.)"
      ],
      "metadata": {
        "id": "vBdQs-g5uKjp"
      }
    },
    {
      "cell_type": "code",
      "source": [
        "spam =  [2, 4, 6, 8, 10]\n",
        "spam[2] = \"Hello\"\n",
        "print(spam)"
      ],
      "metadata": {
        "colab": {
          "base_uri": "https://localhost:8080/"
        },
        "id": "FzdQpBq8ufND",
        "outputId": "76c0f35b-45e2-483f-f693-a535189cc0b9"
      },
      "execution_count": null,
      "outputs": [
        {
          "output_type": "stream",
          "name": "stdout",
          "text": [
            "[2, 4, 'Hello', 8, 10]\n"
          ]
        }
      ]
    },
    {
      "cell_type": "markdown",
      "source": [
        "## Let's pretend the spam includes the list ['a', 'b', 'c', 'd'] for the next three queries."
      ],
      "metadata": {
        "id": "ZKd0W4C9u0xj"
      }
    },
    {
      "cell_type": "code",
      "source": [
        "spam = ['a','b','c','d']"
      ],
      "metadata": {
        "id": "FBdZIJzhvn9B"
      },
      "execution_count": null,
      "outputs": []
    },
    {
      "cell_type": "markdown",
      "source": [
        "### Q3. What is the value of spam[int(int('3' * 2) / 11)]?"
      ],
      "metadata": {
        "id": "SQshVfyhvgaw"
      }
    },
    {
      "cell_type": "code",
      "source": [
        "\n",
        "spam[int(int('3'*2)/11)]"
      ],
      "metadata": {
        "colab": {
          "base_uri": "https://localhost:8080/",
          "height": 36
        },
        "id": "C88712l2v6J4",
        "outputId": "97dd60e4-f6f2-4b02-b5d6-8e9bfba28ce8"
      },
      "execution_count": null,
      "outputs": [
        {
          "output_type": "execute_result",
          "data": {
            "text/plain": [
              "'d'"
            ],
            "application/vnd.google.colaboratory.intrinsic+json": {
              "type": "string"
            }
          },
          "metadata": {},
          "execution_count": 14
        }
      ]
    },
    {
      "cell_type": "markdown",
      "source": [
        "### Q4. What is the value of spam[-1]?"
      ],
      "metadata": {
        "id": "XKI8HsOHxJkk"
      }
    },
    {
      "cell_type": "code",
      "source": [
        "spam[-1]"
      ],
      "metadata": {
        "colab": {
          "base_uri": "https://localhost:8080/",
          "height": 36
        },
        "id": "vhK5mMQFxMi2",
        "outputId": "a2864e30-3add-4911-a9d7-a39199db37d2"
      },
      "execution_count": null,
      "outputs": [
        {
          "output_type": "execute_result",
          "data": {
            "text/plain": [
              "'d'"
            ],
            "application/vnd.google.colaboratory.intrinsic+json": {
              "type": "string"
            }
          },
          "metadata": {},
          "execution_count": 15
        }
      ]
    },
    {
      "cell_type": "markdown",
      "source": [
        "### Q5. What is the value of spam[:2]?"
      ],
      "metadata": {
        "id": "y3iIqrjmxVRg"
      }
    },
    {
      "cell_type": "code",
      "source": [
        "spam[:2]"
      ],
      "metadata": {
        "colab": {
          "base_uri": "https://localhost:8080/"
        },
        "id": "EiDTkpYnxYrO",
        "outputId": "43b1e7c4-b9ac-4406-8878-7fbed03c0e68"
      },
      "execution_count": null,
      "outputs": [
        {
          "output_type": "execute_result",
          "data": {
            "text/plain": [
              "['a', 'b']"
            ]
          },
          "metadata": {},
          "execution_count": 16
        }
      ]
    },
    {
      "cell_type": "markdown",
      "source": [
        "## Let's pretend bacon has the list [3.14,'cat',11,'cat',True] for the next three question."
      ],
      "metadata": {
        "id": "S7tMNOz3aRob"
      }
    },
    {
      "cell_type": "code",
      "source": [
        "bacon = [3.14,'cat',11,'cat',True]"
      ],
      "metadata": {
        "id": "w0BwqWa1agxZ"
      },
      "execution_count": 7,
      "outputs": []
    },
    {
      "cell_type": "markdown",
      "source": [
        "### Q6. What is the value of bacon.index('cat')?"
      ],
      "metadata": {
        "id": "Kmxhl8iuaX9v"
      }
    },
    {
      "cell_type": "code",
      "source": [
        "bacon.index('cat')"
      ],
      "metadata": {
        "colab": {
          "base_uri": "https://localhost:8080/"
        },
        "id": "XkF__67IawgR",
        "outputId": "8af236df-ea49-4654-d756-43381788c7df"
      },
      "execution_count": 8,
      "outputs": [
        {
          "output_type": "execute_result",
          "data": {
            "text/plain": [
              "1"
            ]
          },
          "metadata": {},
          "execution_count": 8
        }
      ]
    },
    {
      "cell_type": "markdown",
      "source": [
        "### Q7. How does bacon.append(99) change the look of the list value in bacon?"
      ],
      "metadata": {
        "id": "M5htYLUPbEcd"
      }
    },
    {
      "cell_type": "code",
      "source": [
        "print(bacon)\n",
        "bacon.append(99)\n",
        "print(bacon)"
      ],
      "metadata": {
        "colab": {
          "base_uri": "https://localhost:8080/"
        },
        "id": "SSQg0uwta_qV",
        "outputId": "c5962f64-c76f-43d6-fabd-89efb32d7bed"
      },
      "execution_count": 9,
      "outputs": [
        {
          "output_type": "stream",
          "name": "stdout",
          "text": [
            "[3.14, 'cat', 11, 'cat', True]\n",
            "[3.14, 'cat', 11, 'cat', True, 99]\n"
          ]
        }
      ]
    },
    {
      "cell_type": "markdown",
      "source": [
        "### Q8. How does bacon.remove('cat') change the look of the list in bacon?"
      ],
      "metadata": {
        "id": "2UfAcqIebTim"
      }
    },
    {
      "cell_type": "code",
      "source": [
        "print(bacon)\n",
        "bacon.remove('cat')\n",
        "print(bacon)\n"
      ],
      "metadata": {
        "colab": {
          "base_uri": "https://localhost:8080/"
        },
        "id": "sXxoRhvIbZjU",
        "outputId": "e11040e8-af84-414e-bfb8-2821163e0a82"
      },
      "execution_count": 10,
      "outputs": [
        {
          "output_type": "stream",
          "name": "stdout",
          "text": [
            "[3.14, 'cat', 11, 'cat', True, 99]\n",
            "[3.14, 11, 'cat', True, 99]\n"
          ]
        }
      ]
    },
    {
      "cell_type": "markdown",
      "source": [
        "### Q9. What are the list concatenation and list replication operators?\n",
        "\n",
        "**Ans:-**\n",
        "\n",
        " - List concatenation operator is ``` ‘+’ ```\n",
        " - while list replication operator is ```‘*’```"
      ],
      "metadata": {
        "id": "prq9EtribqtO"
      }
    },
    {
      "cell_type": "code",
      "source": [
        "list1 = [1,2,3,4]\n",
        "list2 = [10,9,8]\n",
        "\n",
        "print(list1 + list2) #Concatenation\n",
        "print()\n",
        "print(list2*2) #Replication\n"
      ],
      "metadata": {
        "colab": {
          "base_uri": "https://localhost:8080/"
        },
        "id": "UQgtx6bWcEcY",
        "outputId": "97699bb5-1d62-4ffd-b8bd-217316e01d5c"
      },
      "execution_count": 12,
      "outputs": [
        {
          "output_type": "stream",
          "name": "stdout",
          "text": [
            "[1, 2, 3, 4, 10, 9, 8]\n",
            "\n",
            "[10, 9, 8, 10, 9, 8]\n"
          ]
        }
      ]
    },
    {
      "cell_type": "markdown",
      "source": [
        "### Q10. What is difference between the list methods append() and insert()?\n",
        "\n",
        "**Ans:-**\n",
        "\n",
        " - list methods append() will add elements in last index of the list.\n",
        " - While insert() add elements anywhere in the list."
      ],
      "metadata": {
        "id": "gNGzGlKNchPf"
      }
    },
    {
      "cell_type": "code",
      "source": [
        "list = [1,2,3,4]\n",
        "list.append(5)\n",
        "print(list)\n",
        "list.insert(2,'add')\n",
        "print(list)"
      ],
      "metadata": {
        "colab": {
          "base_uri": "https://localhost:8080/"
        },
        "id": "7BheGXjedPPq",
        "outputId": "900db80f-41fe-45c7-8167-5cd5bfaff5dd"
      },
      "execution_count": 13,
      "outputs": [
        {
          "output_type": "stream",
          "name": "stdout",
          "text": [
            "[1, 2, 3, 4, 5]\n",
            "[1, 2, 'add', 3, 4, 5]\n"
          ]
        }
      ]
    },
    {
      "cell_type": "markdown",
      "source": [
        "### Q11. What are the two methods for removing items from a list?\n",
        "\n",
        "**Ans:-**\n",
        " - The ```pop()``` and the ```remove()``` method are two ways to remove values from a list."
      ],
      "metadata": {
        "id": "7LBjkGVId03A"
      }
    },
    {
      "cell_type": "markdown",
      "source": [
        "### Q12. Describe how list values and string values are identical.\n",
        "\n",
        "**Ans:-**\n",
        " - While list is a collection of values in Python, string is a collection of characters. Both list and strings are ```iterable``` in Python and a ```for``` loop can be used around a list or string object to iterate through each element in the list/string."
      ],
      "metadata": {
        "id": "6rvrz0nSeLvp"
      }
    },
    {
      "cell_type": "markdown",
      "source": [
        "### Q13. What's the difference between tuples and lists?\n",
        "\n",
        "**Ans:-**\n",
        " - Tuples are ```immutable``` where as lists in Python are ```mutable```. So once created, the items inside a tuple cannot be changed.\n",
        " - Lists are ```Mutable, Indexable and Slicable```. they can have values added, removed, or changed. Tuples are ```Immutable but Indexable and Slicable```. the tuple values cannot be changed.\n",
        " -  tuples are represented using parentheses, ```()```, while lists use the square brackets, ```[]```."
      ],
      "metadata": {
        "id": "5xlzUeWKeL16"
      }
    },
    {
      "cell_type": "markdown",
      "source": [
        "### Q14. How do you type a tuple value that only contains the integer 42?\n",
        "\n"
      ],
      "metadata": {
        "id": "kcMHs6Q3fvur"
      }
    },
    {
      "cell_type": "code",
      "source": [
        "t = (42,)\n",
        "print(t)\n",
        "print(type(t))"
      ],
      "metadata": {
        "colab": {
          "base_uri": "https://localhost:8080/"
        },
        "id": "UBSE4CRjf7Hi",
        "outputId": "c5122390-826c-42bc-acd8-b5c502e2fef1"
      },
      "execution_count": 15,
      "outputs": [
        {
          "output_type": "stream",
          "name": "stdout",
          "text": [
            "(42,)\n",
            "<class 'tuple'>\n"
          ]
        }
      ]
    },
    {
      "cell_type": "markdown",
      "source": [
        "### Q15. How do you get a list value's tuple form? How do you get a tuple value's list form?\n",
        "\n",
        "**Ans:-**\n",
        " - The ```tuple()``` and ```list()``` functions, respectively are used to convert a list to tuple and vice versa"
      ],
      "metadata": {
        "id": "1fJpR4G2gWwj"
      }
    },
    {
      "cell_type": "markdown",
      "source": [
        "### Q16. Variables that \"contain\" list values are not necessarily lists themselves. Instead, what do they contain?\n",
        "\n",
        "**Ans:-** They contain references to the list values.\n"
      ],
      "metadata": {
        "id": "6CafacErjXkQ"
      }
    },
    {
      "cell_type": "code",
      "source": [
        "\n",
        "var = [1,2,3]\n",
        "print(var)\n",
        "print(id(var))\n",
        "     "
      ],
      "metadata": {
        "colab": {
          "base_uri": "https://localhost:8080/"
        },
        "id": "JTWjOcI8gbEs",
        "outputId": "cf94f608-14a6-484a-8bdd-a2d9abdbd868"
      },
      "execution_count": 27,
      "outputs": [
        {
          "output_type": "stream",
          "name": "stdout",
          "text": [
            "[1, 2, 3]\n",
            "139669900866560\n"
          ]
        }
      ]
    },
    {
      "cell_type": "markdown",
      "source": [
        "### Q17. How do you distinguish between copy.copy() and copy.deepcopy()?\n",
        "\n",
        "**Ans:-**\n",
        " - The copy.copy() function will do a shallow copy of a list, while the copy.deepcopy() function will do a deep copy of a list. That is, only copy.deepcopy() will duplicate any lists inside the list."
      ],
      "metadata": {
        "id": "NvRq6HULjrIM"
      }
    }
  ]
}