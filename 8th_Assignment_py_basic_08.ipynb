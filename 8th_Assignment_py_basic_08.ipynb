{
  "nbformat": 4,
  "nbformat_minor": 0,
  "metadata": {
    "colab": {
      "provenance": []
    },
    "kernelspec": {
      "name": "python3",
      "display_name": "Python 3"
    },
    "language_info": {
      "name": "python"
    }
  },
  "cells": [
    {
      "cell_type": "markdown",
      "source": [
        "# Assignment 8th\n",
        "\n",
        "## Rohan Rajkumar Khatik"
      ],
      "metadata": {
        "id": "QJExxcmVMizt"
      }
    },
    {
      "cell_type": "markdown",
      "source": [
        "### Q1. Is the Python Standard Library included with PyInputPlus?\n",
        "\n",
        "**Ans**:- PyInputPlus is not a part of the Python Standard Library, so we need to install it separately using Pip\n",
        "\n",
        " - pip install PyInputPlus\n",
        "\n"
      ],
      "metadata": {
        "id": "gf5_L7eEMo5-"
      }
    },
    {
      "cell_type": "markdown",
      "source": [
        "### Q2. Why is PyInputPlus commonly imported with import pyinputplus as pypi\n",
        "**Ans**:-\n",
        " - You can import the module with import pyinputplus as pyip so that you can enter a shorter name when calling the module's functions."
      ],
      "metadata": {
        "id": "6fxp3lmkNSsh"
      }
    },
    {
      "cell_type": "markdown",
      "source": [
        "### Q3. How do you distinguish between inputInt() and inputFloat()?\n",
        "\n",
        "**Ans**:- \n",
        " - inputInt() : Accepts an integer value, and returns int value\n",
        "\n",
        " - inputFloat() : Accepts integer/floating point value and returns float value\n",
        "\n",
        "Both takes additional parameters ‘min’, ‘max’, ‘greaterThan’ and ‘lessThan’ for bounds\n"
      ],
      "metadata": {
        "id": "iU_G5a-fVINO"
      }
    },
    {
      "cell_type": "markdown",
      "source": [
        "### Q4. Using PyInputPlus, how do you ensure that the user enters a whole number between 0 and 99?\n",
        "\n",
        "**Ans**:-\n",
        " - In the inputint function we can set the min = 0 and max =99 to ensure user enters number between 0 and 99\n",
        "\n",
        "pyip.inputInt(min = 0, max =99)"
      ],
      "metadata": {
        "id": "PigParj3VjHd"
      }
    },
    {
      "cell_type": "markdown",
      "source": [
        "### Q5. What is transferred to the keyword arguments allowRegexes and blockRegexes?\n",
        "\n",
        "**Ans**:- We can use regular expressions to specify whether an input is allowed or not.\n",
        "\n",
        " - The allowRegexes and blockRegexes keyword arguments take a list of regular expression strings to determine what the PyInputPlus function will accept or reject as valid input.\n",
        "\n",
        "Example:\n",
        "\n",
        " - pyip.inputNum(allowRegexes=[r'(I|V|X|L|C|D|M)+', r'zero']) # it allowes roman letters as numbers too\n",
        " - pyip.inputNum(blockRegexes=[r\"[02468]$\"])# blocks the even numbers"
      ],
      "metadata": {
        "id": "RUOlZdoIWHYS"
      }
    },
    {
      "cell_type": "markdown",
      "source": [
        "### Q6. If a blank input is entered three times, what does inputStr(limit=3) do?\n",
        "\n",
        "**Ans:-** inputStr(limit=3) will throw RetryLimitException exception."
      ],
      "metadata": {
        "id": "R5pt5DAuWoM7"
      }
    },
    {
      "cell_type": "markdown",
      "source": [
        "### Q7. If blank input is entered three times, what does inputStr(limit=3, default='hello') do?\n",
        "\n",
        "**Ans:-** When you use limit keyword arguments and also pass a default keyword argument, the function returns the default value instead of raising an exception\n",
        "\n",
        "  - Since the default parameter is set to hello. after blank input is entered three times instead of raising RetryLimitException exception. the function will return hello as response to the calling function."
      ],
      "metadata": {
        "id": "w3momeStXKn9"
      }
    }
  ]
}