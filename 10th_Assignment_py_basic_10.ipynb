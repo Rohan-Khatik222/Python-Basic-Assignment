{
  "nbformat": 4,
  "nbformat_minor": 0,
  "metadata": {
    "colab": {
      "provenance": []
    },
    "kernelspec": {
      "name": "python3",
      "display_name": "Python 3"
    },
    "language_info": {
      "name": "python"
    }
  },
  "cells": [
    {
      "cell_type": "markdown",
      "source": [
        "# Assignment 10th\n",
        "\n",
        "## Rohan Rajkumar Khatik"
      ],
      "metadata": {
        "id": "DxvCAu1gelRz"
      }
    },
    {
      "cell_type": "markdown",
      "source": [
        "### Q1. How do you distinguish between shutil.copy() and shutil.copytree()?\n",
        "\n",
        "**Ans**:- The shutil.copy() function will copy a single file, while shutil.copytree() will copy an entire folder, along with all its contents."
      ],
      "metadata": {
        "id": "N_ZC5f26l9S8"
      }
    },
    {
      "cell_type": "markdown",
      "source": [
        "### Q2. What function is used to rename files?\n",
        "\n",
        "**Ans**:- To rename files in Python, use the rename() method of the os module."
      ],
      "metadata": {
        "id": "md62HMyHmJ8a"
      }
    },
    {
      "cell_type": "markdown",
      "source": [
        "### Q3. What is the difference between the delete functions in the send2trash and shutil modules?\n",
        "\n",
        "**Ans**:- send2trash function move a file or folder to the recycle bin, while shutil function permanently delete file or folder."
      ],
      "metadata": {
        "id": "oaeG7DXgm8bC"
      }
    },
    {
      "cell_type": "markdown",
      "source": [
        "### Q4. ZipFile objects have a close() method just like File objects’ close() method. What ZipFile method is equivalent to File objects’ open() method?\n",
        "\n",
        "**Ans**:- ZipFile Module provides a method called as zipfile.ZipFile() to read and write to zipFiles. it takes arugments lile filename and mode etc zipfile.  ```ZipFile('filename', mode = 'r')```"
      ],
      "metadata": {
        "id": "WDnAagLQnRhx"
      }
    },
    {
      "cell_type": "markdown",
      "source": [
        "### Q5. Create a programme that searches a folder tree for files with a certain file extension (such as .pdf or .jpg). Copy these files from whatever location they are in to a new folder"
      ],
      "metadata": {
        "id": "4GOaCU-ZnyWQ"
      }
    },
    {
      "cell_type": "code",
      "source": [
        "\n",
        "\n",
        "def copyFile(src,dst,ext):\n",
        "    try:\n",
        "        import os,shutil\n",
        "        for file in os.listdir(src):\n",
        "            if file.endswith(ext):\n",
        "                shutil.copy(os.path.join(src,file),dst)\n",
        "        print(f'Files have been successfully copied from {src} to {dst}')\n",
        "    except Exception as e:\n",
        "        print(e)\n",
        "\n",
        "copyFile(r'D:\\Ineuron', r'D:\\Ineuron\\New folder', '.pdf')\n",
        "\n"
      ],
      "metadata": {
        "id": "Gz8KkWoL2FcJ"
      },
      "execution_count": 11,
      "outputs": []
    }
  ]
}