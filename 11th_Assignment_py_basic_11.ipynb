{
  "nbformat": 4,
  "nbformat_minor": 0,
  "metadata": {
    "colab": {
      "provenance": []
    },
    "kernelspec": {
      "name": "python3",
      "display_name": "Python 3"
    },
    "language_info": {
      "name": "python"
    }
  },
  "cells": [
    {
      "cell_type": "markdown",
      "source": [
        "# Assignment 11th\n",
        "\n",
        "## Rohan Rajkumar Khatik\n"
      ],
      "metadata": {
        "id": "LGm5lFpylyse"
      }
    },
    {
      "cell_type": "markdown",
      "source": [
        "### Q1. Create an assert statement that throws an AssertionError if the variable spam is a negative integer.\n"
      ],
      "metadata": {
        "id": "pT5W94s2l5Hy"
      }
    },
    {
      "cell_type": "code",
      "execution_count": 1,
      "metadata": {
        "id": "QGPOA-DZ7tdz",
        "colab": {
          "base_uri": "https://localhost:8080/",
          "height": 182
        },
        "outputId": "3c1b0ab1-bf3d-4b6b-d400-631fb43f19b4"
      },
      "outputs": [
        {
          "output_type": "error",
          "ename": "AssertionError",
          "evalue": "ignored",
          "traceback": [
            "\u001b[0;31m---------------------------------------------------------------------------\u001b[0m",
            "\u001b[0;31mAssertionError\u001b[0m                            Traceback (most recent call last)",
            "\u001b[0;32m<ipython-input-1-1bf5ab61ae5c>\u001b[0m in \u001b[0;36m<module>\u001b[0;34m\u001b[0m\n\u001b[1;32m      1\u001b[0m \u001b[0mspam\u001b[0m \u001b[0;34m=\u001b[0m \u001b[0;34m-\u001b[0m\u001b[0;36m1\u001b[0m\u001b[0;34m\u001b[0m\u001b[0;34m\u001b[0m\u001b[0m\n\u001b[0;32m----> 2\u001b[0;31m \u001b[0;32massert\u001b[0m \u001b[0mspam\u001b[0m \u001b[0;34m>\u001b[0m \u001b[0;36m0\u001b[0m\u001b[0;34m,\u001b[0m \u001b[0;34m\"Negative not allowed!\"\u001b[0m\u001b[0;34m\u001b[0m\u001b[0;34m\u001b[0m\u001b[0m\n\u001b[0m",
            "\u001b[0;31mAssertionError\u001b[0m: Negative not allowed!"
          ]
        }
      ],
      "source": [
        "spam = -1\n",
        "assert spam > 0, \"Negative not allowed!\""
      ]
    },
    {
      "cell_type": "markdown",
      "source": [
        "### Q2. Write an assert statement that triggers an AssertionError if the variables eggs and bacon contain strings that are the same as each other, even if their cases are different (that is, 'hello' and 'hello' are considered the same, and 'goodbye' and 'GOODbye' are also considered the same)."
      ],
      "metadata": {
        "id": "kzP0tD5qnK2F"
      }
    },
    {
      "cell_type": "code",
      "source": [
        "def raise_assert(egg,bacon):\n",
        "    egg = egg.lower()\n",
        "    bacon = bacon.lower()\n",
        "    assert egg != bacon, 'Eggs/Bacon should not be same, which are same now'"
      ],
      "metadata": {
        "id": "zaCILmcYneCQ"
      },
      "execution_count": null,
      "outputs": []
    },
    {
      "cell_type": "code",
      "source": [
        "raise_assert('goodbye','GOODbye')"
      ],
      "metadata": {
        "id": "D23Yzdxsnp_6"
      },
      "execution_count": null,
      "outputs": []
    },
    {
      "cell_type": "markdown",
      "source": [
        "### Q3. Create an assert statement that throws an AssertionError every time."
      ],
      "metadata": {
        "id": "CGT1Gc4Tocif"
      }
    },
    {
      "cell_type": "code",
      "source": [
        "def assert_always():\n",
        "    assert False, 'Always Shows Assertion Error'\n",
        "assert_always()"
      ],
      "metadata": {
        "id": "AzFVYfxboeOh"
      },
      "execution_count": null,
      "outputs": []
    },
    {
      "cell_type": "markdown",
      "source": [
        "### Q4. What are the two lines that must be present in your software in order to call logging.debug()?"
      ],
      "metadata": {
        "id": "RqMdhxIzomfi"
      }
    },
    {
      "cell_type": "code",
      "source": [
        "import logging\n",
        "logging.basicConfig(filename = 'application_log.txt',level=logging.DEBUG, format=' %(asctime)s - %(levelname)s - %(message)s')"
      ],
      "metadata": {
        "id": "glqA7mcCoyq4"
      },
      "execution_count": null,
      "outputs": []
    },
    {
      "cell_type": "markdown",
      "source": [
        "### Q5. What are the two lines that your program must have in order to have logging.debug() send a logging message to a file named programLog.txt?"
      ],
      "metadata": {
        "id": "BBzZZjhjozpu"
      }
    },
    {
      "cell_type": "code",
      "source": [
        "import logging\n",
        "logging.basicConfig(filename = 'application_log.txt',level=logging.DEBUG, format=' %(asctime)s - %(levelname)s - %(message)s')\n",
        "logging.debug(\"Data Inserted Successfully\")\n",
        "logging.debug('Connection Closed Successfully')"
      ],
      "metadata": {
        "id": "K41QTyBUozLv"
      },
      "execution_count": 2,
      "outputs": []
    },
    {
      "cell_type": "code",
      "source": [
        "file = open(\"./application_log.txt\",\"r\")\n",
        "for record in file.readlines():\n",
        "    print(record)"
      ],
      "metadata": {
        "id": "Hr1sEMd3o_XW"
      },
      "execution_count": 3,
      "outputs": []
    },
    {
      "cell_type": "markdown",
      "source": [
        "### Q6. What are the five levels of logging?\n",
        "\n",
        "**Ans**:-\n",
        " - logging.error()\n",
        "\n",
        " - logging.warning()\n",
        "\n",
        " - logging.info()\n",
        "\n",
        " - logging.critical()\n",
        "\n",
        " - logging.debug()"
      ],
      "metadata": {
        "id": "IIKSLENWp033"
      }
    },
    {
      "cell_type": "markdown",
      "source": [
        "### Q7. What line of code would you add to your software to disable all logging messages?\n",
        "\n",
        "**Ans**:- logging.disable = True"
      ],
      "metadata": {
        "id": "P1H4n97nqDRc"
      }
    },
    {
      "cell_type": "markdown",
      "source": [
        "### Q8.Why is using logging messages better than using print() to display the same message?\n",
        "\n",
        "**Ans**:- Post devlopment of your code, you can disable logging messages without removing the logging function, whereas you need to manually remove print() statements, which is tedious activity. and also print is used when you want to display any particular message or help whereas logging is used to record all events like error, info, debug messages, timestamps."
      ],
      "metadata": {
        "id": "cWCUcuhnqN9B"
      }
    },
    {
      "cell_type": "markdown",
      "source": [
        "### Q9.What are the differences between the Step Over, Step In, and Step Out buttons in the debugger?\n",
        "\n",
        "**Ans**:- \n",
        " - Step In button will cause the debugger to execute the next line of code and then pause again.\n",
        " - Step Over will just execute the line and go to the next line.\n",
        "\n",
        " - Step Out Steps out of the current method and takes you to the caller method."
      ],
      "metadata": {
        "id": "1OIfGIWGquN0"
      }
    },
    {
      "cell_type": "markdown",
      "source": [
        "### Q10.After you click Continue, when will the debugger stop ?\n",
        "\n",
        "**Ans**:- when it has reached the end of a program or a breakpoin"
      ],
      "metadata": {
        "id": "p_J1fCOnrPAp"
      }
    },
    {
      "cell_type": "markdown",
      "source": [
        "### Q11. What is the concept of a breakpoint?\n",
        "\n",
        "**Ans**:- Breakpoint is a setting on a line of code that causes the debugger to pause when the program execution reaches the line"
      ],
      "metadata": {
        "id": "j1W0aGTGsDad"
      }
    }
  ]
}