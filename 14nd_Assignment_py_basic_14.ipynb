{
  "nbformat": 4,
  "nbformat_minor": 0,
  "metadata": {
    "colab": {
      "provenance": []
    },
    "kernelspec": {
      "name": "python3",
      "display_name": "Python 3"
    },
    "language_info": {
      "name": "python"
    }
  },
  "cells": [
    {
      "cell_type": "markdown",
      "source": [
        "## Assignment 14th\n",
        "\n",
        "### Rohan Rajkumar Khatik"
      ],
      "metadata": {
        "id": "IW_NghJSE808"
      }
    },
    {
      "cell_type": "markdown",
      "source": [
        "### 1. What does RGBA stand for?\n",
        "\n",
        "**Ans**:-  RGBA is  Red, Green, Blue, and an Alpha value. Where Alpha Represents the Opacity"
      ],
      "metadata": {
        "id": "sqz7wBsdFFla"
      }
    },
    {
      "cell_type": "markdown",
      "source": [
        "### 2. From the Pillow module, how do you get the RGBA value of any images?\n",
        "\n",
        "**Ans**:- \n",
        "from PIL import ImageColor\n",
        "\n",
        "ImageColor.getcolor(color_name, 'RGBA')"
      ],
      "metadata": {
        "id": "B5a-tz6EFY6P"
      }
    },
    {
      "cell_type": "markdown",
      "source": [
        "### 3. What is a box tuple, and how does it work?\n",
        "\n",
        "**Ans**:- Many Pillow's function take box tuple argument. This means pillow is taking a tuple of four integer coordinates that expecting a rectangular region in image. The four integers are in order left, top, right, bottom."
      ],
      "metadata": {
        "id": "ONN-8T2IFzfk"
      }
    },
    {
      "cell_type": "markdown",
      "source": [
        "### 4. Use your image and load in notebook then, How can you find out the width and height of an Image object?\n",
        "\n"
      ],
      "metadata": {
        "id": "8EyCsY_0JQ-L"
      }
    },
    {
      "cell_type": "code",
      "source": [
        "from PIL import Image\n",
        "pic = Image.open('PIC.jpeg')\n",
        "print(f'Width, Height -> {pic.size}') \n",
        "print(f'Width, Height -> {pic.width},{pic.height}') \n",
        "width,height = pic.size\n",
        "print(f'Width, Height -> {width},{height}')"
      ],
      "metadata": {
        "colab": {
          "base_uri": "https://localhost:8080/"
        },
        "id": "c9ub5g-pJt1b",
        "outputId": "801b0f64-cba5-48bd-88cb-7b54b8f378b5"
      },
      "execution_count": 2,
      "outputs": [
        {
          "output_type": "stream",
          "name": "stdout",
          "text": [
            "Width, Height -> (1080, 1920)\n",
            "Width, Height -> 1080,1920\n",
            "Width, Height -> 1080,1920\n"
          ]
        }
      ]
    },
    {
      "cell_type": "markdown",
      "source": [
        "### 5. What method would you call to get Image object for a 100×100 image, excluding the lower-left quarter of it?\n",
        "\n",
        "**Ans**:-\n",
        "from PIL import Image\n",
        "\n",
        "Image.new('RGBA', (100,100))"
      ],
      "metadata": {
        "id": "zyeKnZx_KNG1"
      }
    },
    {
      "cell_type": "markdown",
      "source": [
        "### 6. After making changes to an Image object, how could you save it as an image file?"
      ],
      "metadata": {
        "id": "pEAPvM3wLIlW"
      }
    },
    {
      "cell_type": "code",
      "source": [
        "from PIL import Image\n",
        "pic = Image.open('PIC.jpeg')\n",
        "pic.save('PIC2.jpeg')"
      ],
      "metadata": {
        "id": "jq5QY4LXLWkY"
      },
      "execution_count": 7,
      "outputs": []
    },
    {
      "cell_type": "markdown",
      "source": [
        "### 7. What module contains Pillow’s shape-drawing code?\n",
        "\n",
        "**Ans**:- Pillows ```ImageDraw``` module contains Shape drawing methods"
      ],
      "metadata": {
        "id": "z60dQKUxLfJK"
      }
    },
    {
      "cell_type": "markdown",
      "source": [
        "### 8. Image objects do not have drawing methods. What kind of object does? How do you get this kind of object?\n",
        "\n",
        "**Ans**:-  ImageDraw objects have shape-drawing methods such as point(), line(), or rectangle().They are returned by passing the Image object to the ImageDraw.Draw() function."
      ],
      "metadata": {
        "id": "-RaFsEwUM1aW"
      }
    }
  ]
}