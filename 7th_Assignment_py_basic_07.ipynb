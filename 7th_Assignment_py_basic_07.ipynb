{
  "nbformat": 4,
  "nbformat_minor": 0,
  "metadata": {
    "colab": {
      "provenance": []
    },
    "kernelspec": {
      "name": "python3",
      "display_name": "Python 3"
    },
    "language_info": {
      "name": "python"
    }
  },
  "cells": [
    {
      "cell_type": "markdown",
      "source": [
        "# Assignment 7th\n",
        "\n",
        "## Rohan Rajkumar Khatik"
      ],
      "metadata": {
        "id": "fP5n3dMyw7wv"
      }
    },
    {
      "cell_type": "markdown",
      "source": [
        "### Q1. What is the name of the feature responsible for generating Regex objects?\n",
        "\n",
        "**Ans:-**\n",
        " - re.compile() is the feature responsible for generation of Regex objects."
      ],
      "metadata": {
        "id": "kvrmrBcwxld2"
      }
    },
    {
      "cell_type": "markdown",
      "source": [
        "### Q2. Why do raw strings often appear in Regex objects?\n",
        "\n",
        "**Ans:-**\n",
        " -  Regular expressions use the backslash character ```('\\')``` to indicate special forms (Metacharacters) or to allow special characters (speical sequences) to be used without invoking their special meaning. This collides with Python’s usage of the same character for the same purpose in string literals. Hence, Raw strings are used (e.g. r\"\\n\") so that backslashes do not have to be escaped."
      ],
      "metadata": {
        "id": "LJNWcuoSyUT9"
      }
    },
    {
      "cell_type": "markdown",
      "source": [
        "### Q3. What is the return value of the search() method?\n",
        "\n",
        "**Ans:-**\n",
        " - It returns a match object if there is a match else returns none."
      ],
      "metadata": {
        "id": "bjJGIni9yr19"
      }
    },
    {
      "cell_type": "markdown",
      "source": [
        "### Q4. From a Match item, how do you get the actual strings that match the pattern?"
      ],
      "metadata": {
        "id": "cCz3_w8WzUie"
      }
    },
    {
      "cell_type": "code",
      "source": [
        "import re\n",
        "match = re.search('H','Hey there, this is rohan.')\n",
        "print('Output:',match)\n",
        "match = re.search('x','Hey there, this is rohan.')\n",
        "print('Output:',match)"
      ],
      "metadata": {
        "colab": {
          "base_uri": "https://localhost:8080/"
        },
        "id": "e-dfkcJbzuKo",
        "outputId": "8062e4ac-5c4f-40d9-dbeb-c25ffbc9c349"
      },
      "execution_count": 8,
      "outputs": [
        {
          "output_type": "stream",
          "name": "stdout",
          "text": [
            "Output: <re.Match object; span=(0, 1), match='H'>\n",
            "Output: None\n"
          ]
        }
      ]
    },
    {
      "cell_type": "markdown",
      "source": [
        "### Q5. In the regex which created from the r'(\\d\\d\\d)-(\\d\\d\\d-\\d\\d\\d\\d)', what does group zero cover? Group 2? Group 1?\n",
        "\n",
        "**Ans:-**\n",
        " - group 0 covers (\\d\\d\\d)-(\\d\\d\\d-\\d\\d\\d\\d)\n",
        " - group 1 covers (\\d\\d\\d)\n",
        " - group 2 covers (\\d\\d\\d-\\d\\d\\d\\d)"
      ],
      "metadata": {
        "id": "ygFhnTwV0mxG"
      }
    },
    {
      "cell_type": "code",
      "source": [
        "import re\n",
        "phoneNumRegex = re.compile(r'(\\d\\d\\d)-(\\d\\d\\d-\\d\\d\\d\\d)')\n",
        "mo = phoneNumRegex.search('My number is 415-555-4242.')\n",
        "print(mo.groups()) # Prints all groups in a tuple format\n",
        "print(mo.group()) # Always returns the fully matched string \n",
        "print(mo.group(1)) # Returns the first group\n",
        "print(mo.group(2)) # Returns the second group"
      ],
      "metadata": {
        "colab": {
          "base_uri": "https://localhost:8080/"
        },
        "id": "A4UyyGaD1ZqU",
        "outputId": "ac796c59-e270-4a00-fcdf-b83308f3a57d"
      },
      "execution_count": 9,
      "outputs": [
        {
          "output_type": "stream",
          "name": "stdout",
          "text": [
            "('415', '555-4242')\n",
            "415-555-4242\n",
            "415\n",
            "555-4242\n"
          ]
        }
      ]
    },
    {
      "cell_type": "markdown",
      "source": [
        "### Q6. In standard expression syntax, parentheses and intervals have distinct meanings. How can you tell a regex that you want it to fit real parentheses and periods?"
      ],
      "metadata": {
        "id": "CnonmQsz1qv4"
      }
    },
    {
      "cell_type": "code",
      "source": [
        "\n",
        "import re\n",
        "phoneNumRegex = re.compile(r'(\\(\\d\\d\\d\\)) (\\d\\d\\d-\\d\\d\\d\\d)')\n",
        "mo = phoneNumRegex.search('My phone number is (415) 555-4242.')\n",
        "print(mo.group())"
      ],
      "metadata": {
        "colab": {
          "base_uri": "https://localhost:8080/"
        },
        "id": "8eEfAWQx2LZx",
        "outputId": "9b828489-ff00-47e1-bee2-1f9bc65a4472"
      },
      "execution_count": 18,
      "outputs": [
        {
          "output_type": "stream",
          "name": "stdout",
          "text": [
            "(415) 555-4242\n"
          ]
        }
      ]
    },
    {
      "cell_type": "markdown",
      "source": [
        "### Q7. The findall() method returns a string list or a list of string tuples. What causes it to return one of the two options?\n",
        "\n",
        "**Ans:-**\n",
        " - If the regex pattern has no groups, a list of strings matched is returned. if the regex pattern has groups, a list of tuple of strings is returned."
      ],
      "metadata": {
        "id": "DMwLogoN4PtN"
      }
    },
    {
      "cell_type": "code",
      "source": [
        "import re\n",
        "phoneNumRegex = re.compile(r'(\\(\\d\\d\\d\\)) (\\d\\d\\d-\\d\\d\\d\\d)')\n",
        "mo = phoneNumRegex.findall('My phone number is (415) 555-4242.')\n",
        "print(mo)\n",
        "\n"
      ],
      "metadata": {
        "colab": {
          "base_uri": "https://localhost:8080/"
        },
        "id": "xr-Ulyr_C16m",
        "outputId": "39fcc79f-96bd-42bc-8586-2fd467265081"
      },
      "execution_count": 19,
      "outputs": [
        {
          "output_type": "stream",
          "name": "stdout",
          "text": [
            "[('(415)', '555-4242')]\n"
          ]
        }
      ]
    },
    {
      "cell_type": "code",
      "source": [
        "import re\n",
        "phoneNumRegex = re.compile(r'\\d{3}-\\d{3}-\\d{4}')\n",
        "mo = phoneNumRegex.findall('My number is 415-555-4242.')\n",
        "print(mo)"
      ],
      "metadata": {
        "colab": {
          "base_uri": "https://localhost:8080/"
        },
        "id": "zOJ5ADyIDJlV",
        "outputId": "ec2b3239-4514-4244-a489-55aeaf498080"
      },
      "execution_count": 20,
      "outputs": [
        {
          "output_type": "stream",
          "name": "stdout",
          "text": [
            "['415-555-4242']\n"
          ]
        }
      ]
    },
    {
      "cell_type": "markdown",
      "source": [
        "### Q8. In standard expressions, what does the | character mean?\n",
        "\n",
        "**Ans**:-\n",
        "\n",
        " - The | character signifies matching “either, or” between two groups"
      ],
      "metadata": {
        "id": "Zy3WFnNLDOSM"
      }
    },
    {
      "cell_type": "markdown",
      "source": [
        "### Q9. In regular expressions, what does the ? character stand for?\n",
        "\n",
        "**Ans**:-\n",
        " - In regular Expressions, ? characters represents zero or one match of the preceeding group."
      ],
      "metadata": {
        "id": "HBF_QCtADeoI"
      }
    },
    {
      "cell_type": "markdown",
      "source": [
        "### Q10. In regular expressions, what is the difference between the + and * characters?\n",
        "\n",
        "**Ans**:-\n",
        "\n",
        " - ```' + '``` refers one or more occurences\n",
        " - ```' * '``` refers zero or more occurences."
      ],
      "metadata": {
        "id": "ta1TD0e3DsRP"
      }
    },
    {
      "cell_type": "markdown",
      "source": [
        "### Q11. What is the difference between {4} and {4,5} in regular expression?\n",
        "\n",
        "**Ans**:-\n",
        " - {4} means preceding character is to be repeated 4 times.\n",
        " - {4,5} means preceding character is repeated minimum 4 times and maximum 5 times."
      ],
      "metadata": {
        "id": "mASyVVUeECmW"
      }
    },
    {
      "cell_type": "markdown",
      "source": [
        "### Q12. What do you mean by the \\d, \\w, and \\s shorthand character classes signify in regular expressions?\n",
        "\n",
        "**Ans**:- \\d, \\w and \\s are special sequences in regular expresssions in python:\n",
        "\n",
        " - \\w – Matches a word character equivalent to [a-zA-Z0-9_]\n",
        " - \\d – Matches digit character equivalent to [0-9]\n",
        " - \\s – Matches whitespace character (space, tab, newline, etc.)"
      ],
      "metadata": {
        "id": "qItG2yeTE6mj"
      }
    },
    {
      "cell_type": "markdown",
      "source": [
        "### Q13. What do means by \\D, \\W, and \\S shorthand character classes signify in regular expressions?\n",
        "\n",
        "**Ans**:- \\D, \\W and \\S are special sequences in regular expresssions in python:\n",
        "\n",
        " - \\W – Matches any non-alphanumeric character equivalent to [^a-zA-Z0-9_]\n",
        " - \\D – Matches any non-digit character, this is equivalent to the set class [^0-9]\n",
        " - \\S – Matches any non-whitespace character\n",
        " "
      ],
      "metadata": {
        "id": "NwHgrReTFT3u"
      }
    },
    {
      "cell_type": "markdown",
      "source": [
        "### Q14. What is the difference between .*? and .*?\n",
        "\n",
        "**Ans**:- \n",
        " - ```' . '``` accepts as many sequence as available(Greedy approach)\n",
        " - ```' .? '``` accepts the first matched sequence and then stops(Non-Greedy approach).\n"
      ],
      "metadata": {
        "id": "M2pzP8WYFufa"
      }
    },
    {
      "cell_type": "markdown",
      "source": [
        "### Q15. What is the syntax for matching both numbers and lowercase letters with a character class?\n",
        "\n",
        "**Ans**:-\n",
        " - The Synatax is Either [a-z0-9] or [0-9a-z]"
      ],
      "metadata": {
        "id": "3yis7AzSGkSv"
      }
    },
    {
      "cell_type": "markdown",
      "source": [
        "### Q16. What is the procedure for making a normal expression in regax case insensitive?\n",
        "\n",
        "**Ans**:-\n",
        " - We can pass ```re.IGNORECASE``` as a flag to make a noraml expression case insensitive\n",
        "\n"
      ],
      "metadata": {
        "id": "XTAOiKlQGzsz"
      }
    },
    {
      "cell_type": "markdown",
      "source": [
        "### Q17. What does the . character normally match? What does it match if re.DOTALL is passed as 2nd argument in re.compile()?\n",
        "\n",
        "**Ans**:- \n",
        " - ```' . '``` character normally pass any character except newline character. With the help of ```DOTALL' . '``` character can match any character including newline."
      ],
      "metadata": {
        "id": "CRJXPX0cHIIt"
      }
    },
    {
      "cell_type": "markdown",
      "source": [
        "### Q18. If numReg = re.compile(r'\\d+'), what will numRegex.sub('X', '11 drummers, 10 pipers, five rings, 4 hen') return?"
      ],
      "metadata": {
        "id": "sw-eIWAwHn-p"
      }
    },
    {
      "cell_type": "code",
      "source": [
        "import re\n",
        "numReg = re.compile(r'\\d+')\n",
        "numReg.sub('X', '11 drummers, 10 pipers, five rings, 4 hen')"
      ],
      "metadata": {
        "colab": {
          "base_uri": "https://localhost:8080/",
          "height": 36
        },
        "id": "FoYQMc7IH8QR",
        "outputId": "127a000b-4b4b-4590-b95b-310cef43c125"
      },
      "execution_count": 23,
      "outputs": [
        {
          "output_type": "execute_result",
          "data": {
            "text/plain": [
              "'X drummers, X pipers, five rings, X hen'"
            ],
            "application/vnd.google.colaboratory.intrinsic+json": {
              "type": "string"
            }
          },
          "metadata": {},
          "execution_count": 23
        }
      ]
    },
    {
      "cell_type": "markdown",
      "source": [
        "### Q19. What does passing re.VERBOSE as the 2nd argument to re.compile() allow to do?\n",
        "\n",
        "**Ans**:- re.VERBOSE will allow to add whitespace and comments to string passed to re.compile().\n",
        "\n"
      ],
      "metadata": {
        "id": "UCdoOchEH-_Y"
      }
    },
    {
      "cell_type": "code",
      "source": [
        "\n",
        "regex_email = re.compile(r'^([a-z0-9_\\.-]+)@([0-9a-z\\.-]+)\\.([a-z\\.]{2, 6})$', re.VERBOSE | re.IGNORECASE)\n",
        " \n",
        "\n",
        "regex_email = re.compile(r\"\"\"\n",
        "                            ^([a-z0-9_\\.-]+)              # local Part like username\n",
        "                            @                             # single @ sign \n",
        "                            ([0-9a-z\\.-]+)                # Domain name like google\n",
        "                            \\.                            # single Dot .\n",
        "                            ([a-z]{2,6})$                 # Top level Domain  like com/in/org\n",
        "                         \"\"\",re.VERBOSE | re.IGNORECASE)   "
      ],
      "metadata": {
        "id": "Gcwq6vliIwWF"
      },
      "execution_count": 26,
      "outputs": []
    },
    {
      "cell_type": "markdown",
      "source": [
        "### Q20. How would you write a regex that match a number with comma for every three digits? It must match the given following:\n",
        "\n",
        "'42','1,234', '6,368,745' but not the following: '12,34,567' (which has only two digits between the commas) '1234' (which lacks commas)\n"
      ],
      "metadata": {
        "id": "GEGfqZIzJJe2"
      }
    },
    {
      "cell_type": "code",
      "source": [
        "import re\n",
        "pattern = r'^\\d{1,3}(,\\d{3})*$'\n",
        "pagex = re.compile(pattern)\n",
        "for ele in ['42','1,234', '6,368,745','12,34,567','1234']:\n",
        "  print('Output:',ele, '->', pagex.search(ele))"
      ],
      "metadata": {
        "colab": {
          "base_uri": "https://localhost:8080/"
        },
        "id": "qBdlTqT0Jmdq",
        "outputId": "04704572-d569-4bfa-9682-f4c44bdcc59e"
      },
      "execution_count": 29,
      "outputs": [
        {
          "output_type": "stream",
          "name": "stdout",
          "text": [
            "Output: 42 -> <re.Match object; span=(0, 2), match='42'>\n",
            "Output: 1,234 -> <re.Match object; span=(0, 5), match='1,234'>\n",
            "Output: 6,368,745 -> <re.Match object; span=(0, 9), match='6,368,745'>\n",
            "Output: 12,34,567 -> None\n",
            "Output: 1234 -> None\n"
          ]
        }
      ]
    },
    {
      "cell_type": "markdown",
      "source": [
        "### Q21. How would you write a regex that matches the full name of someone whose last name is Watanabe? You can assume that the first name that comes before it will always be one word that begins with a capital letter. The regex must match the following:"
      ],
      "metadata": {
        "id": "RKoyDBWkKadL"
      }
    },
    {
      "cell_type": "code",
      "source": [
        "import re\n",
        "pattern = r'[A-Z]{1}[a-z]*\\sWatanabe'\n",
        "namex = re.compile(pattern)\n",
        "for name in ['Haruto Watanabe','Alice Watanabe','RoboCop Watanabe',\n",
        "             'haruto Watanabe','Mr. Watanabe','Watanabe','Haruto watanabe']:\n",
        "    print('Output: ',name,'->',namex.search(name))"
      ],
      "metadata": {
        "colab": {
          "base_uri": "https://localhost:8080/"
        },
        "id": "OoCVzOOuKKKj",
        "outputId": "fd4a0ca4-28f0-45bb-e72f-6ad52d0d929b"
      },
      "execution_count": 31,
      "outputs": [
        {
          "output_type": "stream",
          "name": "stdout",
          "text": [
            "Output:  Haruto Watanabe -> <re.Match object; span=(0, 15), match='Haruto Watanabe'>\n",
            "Output:  Alice Watanabe -> <re.Match object; span=(0, 14), match='Alice Watanabe'>\n",
            "Output:  RoboCop Watanabe -> <re.Match object; span=(4, 16), match='Cop Watanabe'>\n",
            "Output:  haruto Watanabe -> None\n",
            "Output:  Mr. Watanabe -> None\n",
            "Output:  Watanabe -> None\n",
            "Output:  Haruto watanabe -> None\n"
          ]
        }
      ]
    },
    {
      "cell_type": "markdown",
      "source": [
        "### Q22. How would you write a regex that matches a sentence where the first word is either Alice, Bob,or Carol; the second word is either eats, pets, or throws; the third word is apples, cats, or baseballs; and the sentence ends with a period? This regex should be case-insensitive. It must match the following:"
      ],
      "metadata": {
        "id": "ViRrCa7jLWkn"
      }
    },
    {
      "cell_type": "code",
      "source": [
        "import re\n",
        "pattern = r'(Alice|Bob|Carol)\\s(eats|pets|throws)\\s(apples|cats|baseballs)\\.'\n",
        "casex = re.compile(pattern,re.IGNORECASE)\n",
        "for ele in ['Alice eats apples.','Bob pets cats.','Carol throws baseballs.','Alice throws Apples.','BOB EATS CATS.','RoboCop eats apples.'\n",
        ",'ALICE THROWS FOOTBALLS.','Carol eats 7 cats.']:\n",
        "    print('Output: ',ele,'->',casex.search(ele))"
      ],
      "metadata": {
        "colab": {
          "base_uri": "https://localhost:8080/"
        },
        "id": "w0uSYMWFLjQ_",
        "outputId": "b60aa99f-c590-4fb2-ea20-b0a4502daeae"
      },
      "execution_count": 32,
      "outputs": [
        {
          "output_type": "stream",
          "name": "stdout",
          "text": [
            "Output:  Alice eats apples. -> <re.Match object; span=(0, 18), match='Alice eats apples.'>\n",
            "Output:  Bob pets cats. -> <re.Match object; span=(0, 14), match='Bob pets cats.'>\n",
            "Output:  Carol throws baseballs. -> <re.Match object; span=(0, 23), match='Carol throws baseballs.'>\n",
            "Output:  Alice throws Apples. -> <re.Match object; span=(0, 20), match='Alice throws Apples.'>\n",
            "Output:  BOB EATS CATS. -> <re.Match object; span=(0, 14), match='BOB EATS CATS.'>\n",
            "Output:  RoboCop eats apples. -> None\n",
            "Output:  ALICE THROWS FOOTBALLS. -> None\n",
            "Output:  Carol eats 7 cats. -> None\n"
          ]
        }
      ]
    }
  ]
}