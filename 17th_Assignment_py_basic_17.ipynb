{
  "nbformat": 4,
  "nbformat_minor": 0,
  "metadata": {
    "colab": {
      "provenance": []
    },
    "kernelspec": {
      "name": "python3",
      "display_name": "Python 3"
    },
    "language_info": {
      "name": "python"
    }
  },
  "cells": [
    {
      "cell_type": "markdown",
      "source": [
        "## Assignment 17\n",
        "\n",
        "### Rohan Rajkumar Khatik"
      ],
      "metadata": {
        "id": "nISoegoHVvIi"
      }
    },
    {
      "cell_type": "markdown",
      "source": [
        "1. Assign the value 7 to the variable guess_me. Then, write the conditional tests (if, else, and elif) to print the string 'too low' if guess_me is less than 7, 'too high' if greater than 7, and 'just right' if equal to 7."
      ],
      "metadata": {
        "id": "ESn_GazuVzfx"
      }
    },
    {
      "cell_type": "code",
      "source": [
        "def guess_me(x):\n",
        "  if x == 7:\n",
        "    print(\"just right\")\n",
        "  elif x > 7:\n",
        "    print(\"too high\")\n",
        "  else:\n",
        "    print(\"too low\")\n",
        "\n",
        "guess_me(7)\n",
        "guess_me(10)\n",
        "guess_me(2)"
      ],
      "metadata": {
        "colab": {
          "base_uri": "https://localhost:8080/"
        },
        "id": "etJ906_gWHeq",
        "outputId": "42fd4cbd-b044-4b8c-f4d1-2f508bafe008"
      },
      "execution_count": null,
      "outputs": [
        {
          "output_type": "stream",
          "name": "stdout",
          "text": [
            "just right\n",
            "too high\n",
            "too low\n"
          ]
        }
      ]
    },
    {
      "cell_type": "markdown",
      "source": [
        "2. Assign the value 7 to the variable guess_me and the value 1 to the variable start. Write a while loop that compares start with guess_me. Print too low if start is less than guess me. If start equals guess_me, print 'found it!' and exit the loop. If start is greater than guess_me, print 'oops' and exit the loop. Increment start at the end of the loop"
      ],
      "metadata": {
        "id": "-KQIlRRUX4-I"
      }
    },
    {
      "cell_type": "code",
      "source": [
        "guess_me = 7\n",
        "start = 1\n",
        "while True:\n",
        "    if start < guess_me:\n",
        "        print('too low')\n",
        "        start += 1\n",
        "    elif start == guess_me:\n",
        "        print('found it')\n",
        "        break\n",
        "    else:\n",
        "        print('oops')\n",
        "        break\n",
        "    "
      ],
      "metadata": {
        "colab": {
          "base_uri": "https://localhost:8080/"
        },
        "id": "uUglHBunX5fG",
        "outputId": "2e3b977e-38bf-4f72-dd7c-4452020314f0"
      },
      "execution_count": null,
      "outputs": [
        {
          "output_type": "stream",
          "name": "stdout",
          "text": [
            "too low\n",
            "too low\n",
            "too low\n",
            "too low\n",
            "too low\n",
            "too low\n",
            "found it\n"
          ]
        }
      ]
    },
    {
      "cell_type": "markdown",
      "source": [
        "3. Print the following values of the list [3, 2, 1, 0] using a for loop."
      ],
      "metadata": {
        "id": "OHXZpn4XYhOF"
      }
    },
    {
      "cell_type": "code",
      "source": [
        "x = [3,2,1,0]\n",
        "for i in x:\n",
        "  print(i)"
      ],
      "metadata": {
        "colab": {
          "base_uri": "https://localhost:8080/"
        },
        "id": "TzEN0oIFYhrM",
        "outputId": "3f8d2be8-cab8-45c8-8321-411913627236"
      },
      "execution_count": null,
      "outputs": [
        {
          "output_type": "stream",
          "name": "stdout",
          "text": [
            "3\n",
            "2\n",
            "1\n",
            "0\n"
          ]
        }
      ]
    },
    {
      "cell_type": "markdown",
      "source": [
        "4. Use a list comprehension to make a list of the even numbers in range(10)"
      ],
      "metadata": {
        "id": "s1neG1uLawB9"
      }
    },
    {
      "cell_type": "code",
      "source": [
        "print([x for x in range(10) if x%2==0 ])\n"
      ],
      "metadata": {
        "colab": {
          "base_uri": "https://localhost:8080/"
        },
        "id": "oIEe8eSEaweg",
        "outputId": "2fbcacfd-c9dd-4e1d-f4b4-5029534dc30d"
      },
      "execution_count": null,
      "outputs": [
        {
          "output_type": "stream",
          "name": "stdout",
          "text": [
            "[0, 2, 4, 6, 8]\n"
          ]
        }
      ]
    },
    {
      "cell_type": "markdown",
      "source": [
        "5. Use a dictionary comprehension to create the dictionary squares. Use range(10) to return the keys, and use the square of each key as its value."
      ],
      "metadata": {
        "id": "UJzi_U17buKh"
      }
    },
    {
      "cell_type": "code",
      "source": [
        "dict_squares = {x:x**2 for x in range(10)}\n",
        "dict_squares"
      ],
      "metadata": {
        "colab": {
          "base_uri": "https://localhost:8080/"
        },
        "id": "BFzNeHT4bupi",
        "outputId": "5086534a-b237-4b3c-9790-daa2184fee56"
      },
      "execution_count": null,
      "outputs": [
        {
          "output_type": "execute_result",
          "data": {
            "text/plain": [
              "{0: 0, 1: 1, 2: 4, 3: 9, 4: 16, 5: 25, 6: 36, 7: 49, 8: 64, 9: 81}"
            ]
          },
          "metadata": {},
          "execution_count": 14
        }
      ]
    },
    {
      "cell_type": "markdown",
      "source": [
        "6. Construct the set odd from the odd numbers in the range using a set comprehension (10)."
      ],
      "metadata": {
        "id": "qjsGdqmmcZWf"
      }
    },
    {
      "cell_type": "code",
      "source": [
        "print({x for x in range(10) if x%2 !=0})"
      ],
      "metadata": {
        "colab": {
          "base_uri": "https://localhost:8080/"
        },
        "id": "-VcvxZuHcZzg",
        "outputId": "f3c559aa-6dfb-45e4-e3ed-6e0de7d52d8e"
      },
      "execution_count": null,
      "outputs": [
        {
          "output_type": "stream",
          "name": "stdout",
          "text": [
            "{1, 3, 5, 7, 9}\n"
          ]
        }
      ]
    },
    {
      "cell_type": "markdown",
      "source": [
        "7. Use a generator comprehension to return the string 'Got ' and a number for the numbers in range(10). Iterate through this by using a for loop."
      ],
      "metadata": {
        "id": "rqcJHLHfcjn_"
      }
    },
    {
      "cell_type": "code",
      "source": [
        "for value in ('Got %s' % number for number in range(10)):\n",
        "        print(value)"
      ],
      "metadata": {
        "colab": {
          "base_uri": "https://localhost:8080/"
        },
        "id": "UvpnlOyCckbV",
        "outputId": "697819c8-f70b-46fc-b280-c8e278a74cf0"
      },
      "execution_count": null,
      "outputs": [
        {
          "output_type": "stream",
          "name": "stdout",
          "text": [
            "Got 0\n",
            "Got 1\n",
            "Got 2\n",
            "Got 3\n",
            "Got 4\n",
            "Got 5\n",
            "Got 6\n",
            "Got 7\n",
            "Got 8\n",
            "Got 9\n"
          ]
        }
      ]
    },
    {
      "cell_type": "markdown",
      "source": [
        "8. Define a function called good that returns the list ['Harry', 'Ron', 'Hermione']."
      ],
      "metadata": {
        "id": "CtPVP84He8k4"
      }
    },
    {
      "cell_type": "code",
      "source": [
        "def good(name):\n",
        "  x = ['Harry', 'Ron', 'Hermione']\n",
        "  return x\n",
        "\n",
        "good(x)"
      ],
      "metadata": {
        "colab": {
          "base_uri": "https://localhost:8080/"
        },
        "id": "P7f4pXk9e9Tn",
        "outputId": "992d914b-b460-4f2f-b475-e399ad6c174b"
      },
      "execution_count": null,
      "outputs": [
        {
          "output_type": "execute_result",
          "data": {
            "text/plain": [
              "['Harry', 'Ron', 'Hermione']"
            ]
          },
          "metadata": {},
          "execution_count": 22
        }
      ]
    },
    {
      "cell_type": "markdown",
      "source": [
        "9. Define a generator function called get_odds that returns the odd numbers from range(10). Use a for loop to find and print the third value returned."
      ],
      "metadata": {
        "id": "ba0swVkHfhcB"
      }
    },
    {
      "cell_type": "code",
      "source": [
        "def get_odds():\n",
        "        for number in range(1, 10, 2):\n",
        "            yield number\n",
        "count = 1\n",
        "for number in get_odds():\n",
        "    if count == 3:\n",
        "        print(f\"The third odd number is: {number}\")\n",
        "        break\n",
        "    count += 1"
      ],
      "metadata": {
        "colab": {
          "base_uri": "https://localhost:8080/"
        },
        "id": "rcmiKUglfh-4",
        "outputId": "ab342ea4-806f-41fb-d788-2221ad8fe377"
      },
      "execution_count": null,
      "outputs": [
        {
          "output_type": "stream",
          "name": "stdout",
          "text": [
            "The third odd number is: 5\n"
          ]
        }
      ]
    },
    {
      "cell_type": "markdown",
      "source": [
        "10. Define an exception called OopsException. Raise this exception to see what happens. Then write the code to catch this exception and print 'Caught an oops'."
      ],
      "metadata": {
        "id": "Bb63CE58gOPP"
      }
    },
    {
      "cell_type": "code",
      "source": [
        "class OopsException(Exception):\n",
        "    pass\n",
        "\n",
        "def raiseException(num):\n",
        "    if num < 0:\n",
        "        raise OopsException(num)\n",
        "\n",
        "try:\n",
        "    raiseException(-1)\n",
        "except OopsException as err:\n",
        "    print('Caught an oops', err)"
      ],
      "metadata": {
        "colab": {
          "base_uri": "https://localhost:8080/"
        },
        "id": "ialFAWBTgOpj",
        "outputId": "5680565c-2cd8-4ea0-f82e-e8fc6f44a127"
      },
      "execution_count": null,
      "outputs": [
        {
          "output_type": "stream",
          "name": "stdout",
          "text": [
            "Caught an oops -1\n"
          ]
        }
      ]
    },
    {
      "cell_type": "markdown",
      "source": [
        "11. Use zip() to make a dictionary called movies that pairs these lists: titles = ['Creature of Habit', 'Crewel Fate'] and plots = ['A nun turns into a monster', 'A haunted yarn shop']."
      ],
      "metadata": {
        "id": "WEpyXDhbgncP"
      }
    },
    {
      "cell_type": "code",
      "source": [
        "titles = ['Creature of Habit', 'Crewel Fate']\n",
        "plots = ['A nun turns into a monster', 'A haunted yarn shop']\n",
        "output = dict(zip(titles,plots))\n",
        "print(output)"
      ],
      "metadata": {
        "colab": {
          "base_uri": "https://localhost:8080/"
        },
        "id": "M82zYEBWgpJ0",
        "outputId": "2440bb72-d029-4035-bd92-753349eecfe8"
      },
      "execution_count": null,
      "outputs": [
        {
          "output_type": "stream",
          "name": "stdout",
          "text": [
            "{'Creature of Habit': 'A nun turns into a monster', 'Crewel Fate': 'A haunted yarn shop'}\n"
          ]
        }
      ]
    }
  ]
}