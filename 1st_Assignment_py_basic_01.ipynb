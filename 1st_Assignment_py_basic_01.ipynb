{
  "nbformat": 4,
  "nbformat_minor": 0,
  "metadata": {
    "colab": {
      "provenance": []
    },
    "kernelspec": {
      "name": "python3",
      "display_name": "Python 3"
    },
    "language_info": {
      "name": "python"
    }
  },
  "cells": [
    {
      "cell_type": "markdown",
      "source": [
        "### Q1. In the below elements which of them are values or an expression? eg:- values can be integer or string and expressions will be mathematical operators.\n",
        " \n",
        " ```\n",
        " - *\n",
        "- 'hello'\n",
        " - -87.8\n",
        " - -\n",
        " - /\n",
        " - +\n",
        " - 6\n",
        "\n",
        " ```"
      ],
      "metadata": {
        "id": "ei4HzRmqGlVC"
      }
    },
    {
      "cell_type": "code",
      "source": [
        "values_or_expression = [\"'hello\", \"-87.8\", \"6\"]\n",
        "expressions = [\"*\", \"-\", \"/\", \"+\"]\n",
        "\n",
        "print(f\"There are 3 values or an expression i.e {values_or_expression} \\nand\\nThere are 4 expressions i.e {expressions} \")"
      ],
      "metadata": {
        "colab": {
          "base_uri": "https://localhost:8080/"
        },
        "id": "f_1-g2OqG7hY",
        "outputId": "86cb6abe-8ee5-499a-e76c-8779988f8922"
      },
      "execution_count": null,
      "outputs": [
        {
          "output_type": "stream",
          "name": "stdout",
          "text": [
            "There are 3 values or an expression i.e [\"'hello\", '-87.8', '6'] \n",
            "and\n",
            "There are 4 expressions i.e ['*', '-', '/', '+'] \n"
          ]
        }
      ]
    },
    {
      "cell_type": "markdown",
      "source": [
        "### Q2. What is the difference between string and variable?\n",
        "\n",
        "```\n",
        "- Variable\n",
        "  - A Variable is like a container which is used to store the information.\n",
        "  - Variable declaration cannot start with Number or it doesn't accept any symbol.\n",
        "\n",
        "- String\n",
        "  - String is a group of characters and type of information that you would store in a Variable.\n",
        "  - We use single '' or double \"\" quotes for string.\n",
        "\n",
        "```"
      ],
      "metadata": {
        "id": "-m0DLF80Id8e"
      }
    },
    {
      "cell_type": "markdown",
      "source": [
        "### Q3. Describe three different data types.\n",
        "\n",
        "\n",
        " - 1. String:- A string is a collection of one or more characters put in a single quote, double-quote or triple quote.\n",
        " - 2. Integers:- It contains positive or negative whole numbers without fraction or decimal.\n",
        " - 3. Boolean:- True or False. True and False with capital ‘T’ and ‘F’.\n"
      ],
      "metadata": {
        "id": "aYooCEzsKZeE"
      }
    },
    {
      "cell_type": "markdown",
      "source": [
        "Q4. What is an expression made up of? What do all expressions do?\n",
        "\n",
        "- An expression is a combination of operators and operands that is interpreted to produce some other value.\n",
        "- There is more than one operator in an expression, their precedence decides which operation will be performed first.\n",
        "- Different types of expressions:- \n",
        "1. Arithmetic Expressions:-  +,  –, *,  /, //,\t %,\t **\n",
        "2. Relational Expressions:- > , < , >= , <=\n",
        "3. Logical Expressions:- and, or, not\n",
        "4. Bitwise Expressions etc..."
      ],
      "metadata": {
        "id": "elCAgupdOi6M"
      }
    },
    {
      "cell_type": "markdown",
      "source": [
        "### Q5. This assignment statements, like spam = 10. What is the difference between an expression and a statement?\n",
        "\n",
        "```\n",
        "  - An expression evaluates to a single value. \n",
        "  - While a statement doesn't.\n",
        "\n",
        "```"
      ],
      "metadata": {
        "id": "7OX59qslQbFU"
      }
    },
    {
      "cell_type": "markdown",
      "source": [
        "### Q6. After running the following code, what does the variable bacon contain?\n",
        "````\n",
        "bacon = 22\n",
        "bacon + 1\n",
        "````\n",
        "\n",
        "Ans:- variable bacon contain 22."
      ],
      "metadata": {
        "id": "WAaooSc_UU5J"
      }
    },
    {
      "cell_type": "code",
      "source": [
        "bacon = 22\n",
        "bacon + 1\n",
        "\n",
        "print(bacon)"
      ],
      "metadata": {
        "id": "QTpry5TdIlag",
        "colab": {
          "base_uri": "https://localhost:8080/"
        },
        "outputId": "2591a876-ef5e-4c06-dc12-5b1a6d55897c"
      },
      "execution_count": 6,
      "outputs": [
        {
          "output_type": "stream",
          "name": "stdout",
          "text": [
            "22\n"
          ]
        }
      ]
    },
    {
      "cell_type": "markdown",
      "source": [
        "### Q7. What should the values of the following two terms be?\n",
        "\n",
        "```\n",
        "'spam'+'spamspam'\n",
        "'spam'*3\n",
        "```"
      ],
      "metadata": {
        "id": "YIiKY5tZU3Y1"
      }
    },
    {
      "cell_type": "code",
      "source": [
        "print('spam'+'spamspam') #concatenation\n",
        "print('spam'*3) #multiplication\n"
      ],
      "metadata": {
        "colab": {
          "base_uri": "https://localhost:8080/"
        },
        "id": "GffNahQTVQwn",
        "outputId": "a3afdb03-ea60-4bf2-88c7-8ecc7288dd78"
      },
      "execution_count": 8,
      "outputs": [
        {
          "output_type": "stream",
          "name": "stdout",
          "text": [
            "spamspamspam\n",
            "spamspamspam\n"
          ]
        }
      ]
    },
    {
      "cell_type": "markdown",
      "source": [
        "### Q8. Why is eggs a valid variable name while 100 is invalid?\n",
        "\n",
        "- Answer:- eggs a valid variable name while 100 is invalid Because Variable names cannot begin with a number.\n",
        "\n"
      ],
      "metadata": {
        "id": "8iw6OnwdVy9e"
      }
    },
    {
      "cell_type": "code",
      "source": [
        "egg= 'Assignment'\n",
        "100= 'hello'\n",
        "print(egg) \n",
        "print(100) "
      ],
      "metadata": {
        "colab": {
          "base_uri": "https://localhost:8080/",
          "height": 130
        },
        "id": "CyNthBLvWw-X",
        "outputId": "4227ca09-416c-44de-b959-0f0bbd429465"
      },
      "execution_count": 9,
      "outputs": [
        {
          "output_type": "error",
          "ename": "SyntaxError",
          "evalue": "ignored",
          "traceback": [
            "\u001b[0;36m  File \u001b[0;32m\"<ipython-input-9-f9886780d0f2>\"\u001b[0;36m, line \u001b[0;32m2\u001b[0m\n\u001b[0;31m    100= 'hello'\u001b[0m\n\u001b[0m    ^\u001b[0m\n\u001b[0;31mSyntaxError\u001b[0m\u001b[0;31m:\u001b[0m cannot assign to literal\n"
          ]
        }
      ]
    },
    {
      "cell_type": "markdown",
      "source": [
        "### Q9. What three functions can be used to get the integer, floating-point number, or string version of a value?"
      ],
      "metadata": {
        "id": "Y5_Znj9YWc_X"
      }
    },
    {
      "cell_type": "code",
      "source": [
        "a = 10\n",
        "\n",
        "print(f\"Integer:- {int(a)}\")\n",
        "print(f\"Float:- {float(a)}\")\n",
        "print(f\"String:- {str(a)}\")\n",
        "\n"
      ],
      "metadata": {
        "colab": {
          "base_uri": "https://localhost:8080/"
        },
        "id": "RuftRFtgXF-o",
        "outputId": "1a647d9d-e653-499e-c1ca-b857b2410d77"
      },
      "execution_count": 14,
      "outputs": [
        {
          "output_type": "stream",
          "name": "stdout",
          "text": [
            "Integer:- 10\n",
            "Float:- 10.0\n",
            "String:- 10\n"
          ]
        }
      ]
    },
    {
      "cell_type": "markdown",
      "source": [
        " ### Q10.Why does this expression cause an error? how can you fix it?\n",
        "```\n",
        "'I have eaten ' + 99 + 'burritos.'\n",
        "```"
      ],
      "metadata": {
        "id": "zZkxV9mnYBse"
      }
    },
    {
      "cell_type": "code",
      "source": [
        "print(f\"I have eaten  {str(99)} burritos.\")"
      ],
      "metadata": {
        "colab": {
          "base_uri": "https://localhost:8080/"
        },
        "id": "-tIYy0zpYL6-",
        "outputId": "3b34d755-15fb-4f95-b49b-4b9b222b7c68"
      },
      "execution_count": 20,
      "outputs": [
        {
          "output_type": "stream",
          "name": "stdout",
          "text": [
            "I have eaten  99 burritos.\n"
          ]
        }
      ]
    }
  ]
}