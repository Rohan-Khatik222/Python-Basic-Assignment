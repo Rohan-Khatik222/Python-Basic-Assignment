{
  "nbformat": 4,
  "nbformat_minor": 0,
  "metadata": {
    "colab": {
      "provenance": []
    },
    "kernelspec": {
      "name": "python3",
      "display_name": "Python 3"
    },
    "language_info": {
      "name": "python"
    }
  },
  "cells": [
    {
      "cell_type": "markdown",
      "source": [
        "## Assignment 13\n",
        "\n",
        "### Rohan Rajkumar Khatik"
      ],
      "metadata": {
        "id": "zTcSejqMHEWB"
      }
    },
    {
      "cell_type": "markdown",
      "source": [
        "### 1. What advantages do Excel spreadsheets have over CSV spreadsheets?\n",
        "\n",
        "**Ans**:- \n",
        "1. Reading large dataset is much easier in excel compared to csv.\n",
        "2. Excel provides the option for linking the data from external sources but no such feature available in csv.\n",
        "3. Excel (XLS and XLSX) file formats are better for storing and analysing complex data.\n",
        "4. An Excel not only stores data but can also do operations on the data using macros, formulas etc."
      ],
      "metadata": {
        "id": "DszVbsgAHTRv"
      }
    },
    {
      "cell_type": "markdown",
      "source": [
        "### 2.What do you pass to csv.reader() and csv.writer() to create reader and writer objects?\n",
        "\n",
        "**Ans**:- file object"
      ],
      "metadata": {
        "id": "exwS0ngrH-oC"
      }
    },
    {
      "cell_type": "code",
      "source": [
        "import csv\n",
        "with open('rohan.csv','r') as file:\n",
        "    csv_file = csv.reader(file,delimiter=',')\n",
        "    for ele in file:\n",
        "        print(ele)"
      ],
      "metadata": {
        "colab": {
          "base_uri": "https://localhost:8080/"
        },
        "id": "AD8HaRjxLIhf",
        "outputId": "284268c4-ddd9-49ed-fa98-9559b5ce50a7"
      },
      "execution_count": 4,
      "outputs": [
        {
          "output_type": "stream",
          "name": "stdout",
          "text": [
            "SN, Name, City\n",
            "\n",
            "1, Rohan, Vadodara\n",
            "\n",
            "2, Khatik, Edmonton\n"
          ]
        }
      ]
    },
    {
      "cell_type": "markdown",
      "source": [
        "### 3. What modes do File objects for reader and writer objects need to be opened in?\n",
        "\n",
        "**Ans**:- For csv.reader(iterable_file_object), the file objects needed to be opened in read mode mode='r' Whereas for csv.writer(iterable_file_object) the file objects needed to be opened in write mode mode='w'"
      ],
      "metadata": {
        "id": "fi9adp_XMeeB"
      }
    },
    {
      "cell_type": "markdown",
      "source": [
        "### 4. What method takes a list argument and writes it to a CSV file?\n",
        "\n",
        "**Ans**:- csv.writer class provides two methods for writing to CSV. They are writerow() and writerows(). writerow() method writes a single row at a time. Whereas writerows() method is used to write multiple rows at a time.\n"
      ],
      "metadata": {
        "id": "PvCV0oBcJ9k-"
      }
    },
    {
      "cell_type": "code",
      "source": [
        "import csv      \n",
        "fields = ['Name', 'Branch', 'Year', 'CGPA']\n",
        "rows = [ \n",
        "            ['Rohan', 'BCA', '2', '9.0'],  \n",
        "            ['Urjita', 'Bcom', '2', '9.1'], \n",
        "            ['Mamta', 'Bcom', '2', '9.3']\n",
        "       ] \n",
        "with open(\"university_records.csv\", 'w') as csvfile: \n",
        "    csvwriter = csv.writer(csvfile) \n",
        "    csvwriter.writerow(fields) # writing the fields \n",
        "    csvwriter.writerows(rows) # writing the data rows "
      ],
      "metadata": {
        "id": "bar_wJaXLmeb"
      },
      "execution_count": 5,
      "outputs": []
    },
    {
      "cell_type": "code",
      "source": [
        "import csv\n",
        "with open('university_records.csv','r') as file:\n",
        "    csv_file = csv.reader(file,delimiter=',')\n",
        "    for ele in file:\n",
        "        print(ele)"
      ],
      "metadata": {
        "colab": {
          "base_uri": "https://localhost:8080/"
        },
        "id": "Uxpim287KuX2",
        "outputId": "5646bed9-b3ab-448a-8b99-eda77a608722"
      },
      "execution_count": 6,
      "outputs": [
        {
          "output_type": "stream",
          "name": "stdout",
          "text": [
            "Name,Branch,Year,CGPA\n",
            "\n",
            "Rohan,BCA,2,9.0\n",
            "\n",
            "Urjita,Bcom,2,9.1\n",
            "\n",
            "Mamta,Bcom,2,9.3\n",
            "\n"
          ]
        }
      ]
    },
    {
      "cell_type": "markdown",
      "source": [
        "### 5. What do the keyword arguments delimiter and line terminator do?\n",
        "**Ans**:- delimiter sets the character between cells on a row. line terminator sets the character that comes at the end of a row."
      ],
      "metadata": {
        "id": "1axFwOW7MHO3"
      }
    },
    {
      "cell_type": "markdown",
      "source": [
        "### 6. What function takes a string of JSON data and returns a Python data structure?\n",
        "\n",
        "**Ans**:- loads() method takes a string of JSON data and returns a Python data structure"
      ],
      "metadata": {
        "id": "U54eRrYwNf_m"
      }
    },
    {
      "cell_type": "code",
      "source": [
        "import json\n",
        "my_details_json ='''{\n",
        "    \"Name\": \"Rohan Khatik\",\n",
        "    \"Qualification\": \"BCA\"\n",
        "    }'''\n",
        "print(my_details_json)\n",
        "print(f'Type of my_details_json is {type(my_details_json)}')\n",
        "my_details = json.loads(my_details_json)\n",
        "print(my_details)\n",
        "print(f'Type of my_details is {type(my_details)}')"
      ],
      "metadata": {
        "colab": {
          "base_uri": "https://localhost:8080/"
        },
        "id": "iBNq74FcOwQl",
        "outputId": "f24f1feb-d207-4a4d-f72a-78f30f406ed9"
      },
      "execution_count": 7,
      "outputs": [
        {
          "output_type": "stream",
          "name": "stdout",
          "text": [
            "{\n",
            "    \"Name\": \"Rohan Khatik\",\n",
            "    \"Qualification\": \"BCA\"\n",
            "    }\n",
            "Type of my_details_json is <class 'str'>\n",
            "{'Name': 'Rohan Khatik', 'Qualification': 'BCA'}\n",
            "Type of my_details is <class 'dict'>\n"
          ]
        }
      ]
    },
    {
      "cell_type": "markdown",
      "source": [
        "### 7. What function takes a Python data structure and returns a string of JSON data?\n",
        "\n",
        "**Ans**:- dumps() method takes a python data structure and returns a string of JSON data"
      ],
      "metadata": {
        "id": "4vLwupecO9n5"
      }
    },
    {
      "cell_type": "code",
      "source": [
        "import json\n",
        "my_details = {\n",
        "   \"Name\": \"Rohan Khatik\",\n",
        "    \"Qualification\": \"BCA\"\n",
        "}\n",
        "print(my_details)\n",
        "print(f'Type of my_details is {type(my_details)}')\n",
        "my_details_json = json.dumps(my_details, indent=4, sort_keys=True)\n",
        "print(my_details_json)\n",
        "print(f'Type of my_details_json is {type(my_details_json)}')"
      ],
      "metadata": {
        "colab": {
          "base_uri": "https://localhost:8080/"
        },
        "id": "ZpAJDnNxPcX4",
        "outputId": "92940cd3-f31d-4195-fbb8-fd3f5b00ce11"
      },
      "execution_count": 8,
      "outputs": [
        {
          "output_type": "stream",
          "name": "stdout",
          "text": [
            "{'Name': 'Rohan Khatik', 'Qualification': 'BCA'}\n",
            "Type of my_details is <class 'dict'>\n",
            "{\n",
            "    \"Name\": \"Rohan Khatik\",\n",
            "    \"Qualification\": \"BCA\"\n",
            "}\n",
            "Type of my_details_json is <class 'str'>\n"
          ]
        }
      ]
    }
  ]
}